{
  "cells": [
    {
      "cell_type": "code",
      "execution_count": 5,
      "metadata": {},
      "outputs": [],
      "source": [
        "import json\n",
        "import pandas as pd\n",
        "from deepeval.test_case import LLMTestCase\n",
        "from deepeval.test_case import LLMTestCaseParams\n",
        "from deepeval.metrics import GEval\n",
        "from deepeval import assert_test\n",
        "\n",
        "# Load model outputs — each element is a JSON string\n",
        "with open(\"/Users/zhangran/Desktop/BP@UnitedStates/Code/D2D_Data2Dashboard/exp_result/exp01_d2insight_sys_stimhartnow_result.json\", \"r\") as f:\n",
        "    output_sys = json.load(f)\n",
        "\n",
        "# Load model outputs — each element is a JSON string\n",
        "with open(\"/Users/zhangran/Desktop/BP@UnitedStates/Code/D2D_Data2Dashboard/exp_result/exp01_d2insight_gpt4o_domain_stimhartnow_result.json\", \"r\") as f:\n",
        "    output_gpt4o = json.load(f)\n",
        "\n",
        "insight_sys = (\n",
        "    output_sys[\"analysis\"][\"analysis\"][\"descriptive\"] + \" \" +\n",
        "    output_sys[\"analysis\"][\"analysis\"][\"predictive\"] + \" \" +\n",
        "    output_sys[\"analysis\"][\"analysis\"][\"domain_related\"]\n",
        ")\n",
        "\n",
        "insight_gpt4o = (\n",
        "    output_gpt4o[\"insights\"][\"customer_retention\"][\"insight\"] + \" \" +\n",
        "    output_gpt4o[\"insights\"][\"acquisition_channels\"][\"insight\"] + \" \" +\n",
        "    output_gpt4o[\"insights\"][\"customer_demographics\"][\"insight\"] + \" \" +\n",
        "    output_gpt4o[\"insights\"][\"financial_analysis\"][\"insight\"] + \" \" +\n",
        "    output_gpt4o[\"insights\"][\"contract_analysis\"][\"insight\"] + \" \" +\n",
        "    output_gpt4o[\"insights\"][\"premium_customers\"][\"insight\"]\n",
        ")\n",
        "\n",
        "# 3. Create a test case without reference output\n",
        "test_case_sys = LLMTestCase(\n",
        "    input=\"Customer Relationship Management dataset with features like acquisition channel, retention, churn, periods active, etc.\",\n",
        "    actual_output=insight_sys,\n",
        ")\n",
        "\n",
        "test_case_gpt4o = LLMTestCase(\n",
        "    input=\"Customer Relationship Management dataset with features like acquisition channel, retention, churn, periods active, etc.\",\n",
        "    actual_output=insight_gpt4o,\n",
        ")"
      ]
    },
    {
      "cell_type": "code",
      "execution_count": 6,
      "metadata": {},
      "outputs": [],
      "source": [
        "# 4. Define GEval metrics (self-evaluation — no expected_output)\n",
        "insightful = GEval(\n",
        "    name=\"Insightful\",\n",
        "    criteria=\"Does the output offer a deep or non-obvious understanding? Does it connect patterns or trends that aren't immediately apparent?\",\n",
        "    evaluation_params=[LLMTestCaseParams.INPUT, LLMTestCaseParams.ACTUAL_OUTPUT],\n",
        ")\n",
        "\n",
        "novelty = GEval(\n",
        "    name=\"Novelty\",\n",
        "    criteria=\"Does the output go beyond generic interpretation? Would it surprise or teach something new to a domain expert?\",\n",
        "    evaluation_params=[LLMTestCaseParams.INPUT, LLMTestCaseParams.ACTUAL_OUTPUT],\n",
        ")\n",
        "\n",
        "domain_relevance = GEval(\n",
        "    name=\"Domain Relevance\",\n",
        "    criteria=\"Is the output specific to the CRM domain? Does it reference domain-specific terms or relationships?\",\n",
        "    evaluation_params=[LLMTestCaseParams.INPUT, LLMTestCaseParams.ACTUAL_OUTPUT],\n",
        ")"
      ]
    },
    {
      "cell_type": "code",
      "execution_count": null,
      "metadata": {},
      "outputs": [],
      "source": [
        "# # 5. Run evaluation (assertion-based print)\n",
        "# print(\"\\n=== Insight Evaluation Report ===\")\n",
        "# assert_test(test_case_sys, [insightful, novelty, domain_relevance])"
      ]
    },
    {
      "cell_type": "code",
      "execution_count": 7,
      "metadata": {},
      "outputs": [
        {
          "data": {
            "text/html": [
              "<pre style=\"white-space:pre;overflow-x:auto;line-height:normal;font-family:Menlo,'DejaVu Sans Mono',consolas,'Courier New',monospace\">✨ You're running DeepEval's latest <span style=\"color: #6a00ff; text-decoration-color: #6a00ff\">Insightful </span><span style=\"color: #6a00ff; text-decoration-color: #6a00ff; font-weight: bold\">(</span><span style=\"color: #6a00ff; text-decoration-color: #6a00ff\">GEval</span><span style=\"color: #6a00ff; text-decoration-color: #6a00ff; font-weight: bold\">)</span><span style=\"color: #6a00ff; text-decoration-color: #6a00ff\"> Metric</span>! <span style=\"color: #374151; text-decoration-color: #374151; font-weight: bold\">(</span><span style=\"color: #374151; text-decoration-color: #374151\">using gpt-4o, </span><span style=\"color: #374151; text-decoration-color: #374151\">strict</span><span style=\"color: #374151; text-decoration-color: #374151\">=</span><span style=\"color: #374151; text-decoration-color: #374151; font-style: italic\">False</span><span style=\"color: #374151; text-decoration-color: #374151\">, </span><span style=\"color: #374151; text-decoration-color: #374151\">async_mode</span><span style=\"color: #374151; text-decoration-color: #374151\">=</span><span style=\"color: #374151; text-decoration-color: #374151; font-style: italic\">True</span><span style=\"color: #374151; text-decoration-color: #374151; font-weight: bold\">)</span><span style=\"color: #374151; text-decoration-color: #374151\">...</span>\n",
              "</pre>\n"
            ],
            "text/plain": [
              "✨ You're running DeepEval's latest \u001b[38;2;106;0;255mInsightful \u001b[0m\u001b[1;38;2;106;0;255m(\u001b[0m\u001b[38;2;106;0;255mGEval\u001b[0m\u001b[1;38;2;106;0;255m)\u001b[0m\u001b[38;2;106;0;255m Metric\u001b[0m! \u001b[1;38;2;55;65;81m(\u001b[0m\u001b[38;2;55;65;81musing gpt-4o, \u001b[0m\u001b[38;2;55;65;81mstrict\u001b[0m\u001b[38;2;55;65;81m=\u001b[0m\u001b[3;38;2;55;65;81mFalse\u001b[0m\u001b[38;2;55;65;81m, \u001b[0m\u001b[38;2;55;65;81masync_mode\u001b[0m\u001b[38;2;55;65;81m=\u001b[0m\u001b[3;38;2;55;65;81mTrue\u001b[0m\u001b[1;38;2;55;65;81m)\u001b[0m\u001b[38;2;55;65;81m...\u001b[0m\n"
            ]
          },
          "metadata": {},
          "output_type": "display_data"
        },
        {
          "data": {
            "text/html": [
              "<pre style=\"white-space:pre;overflow-x:auto;line-height:normal;font-family:Menlo,'DejaVu Sans Mono',consolas,'Courier New',monospace\">✨ You're running DeepEval's latest <span style=\"color: #6a00ff; text-decoration-color: #6a00ff\">Novelty </span><span style=\"color: #6a00ff; text-decoration-color: #6a00ff; font-weight: bold\">(</span><span style=\"color: #6a00ff; text-decoration-color: #6a00ff\">GEval</span><span style=\"color: #6a00ff; text-decoration-color: #6a00ff; font-weight: bold\">)</span><span style=\"color: #6a00ff; text-decoration-color: #6a00ff\"> Metric</span>! <span style=\"color: #374151; text-decoration-color: #374151; font-weight: bold\">(</span><span style=\"color: #374151; text-decoration-color: #374151\">using gpt-4o, </span><span style=\"color: #374151; text-decoration-color: #374151\">strict</span><span style=\"color: #374151; text-decoration-color: #374151\">=</span><span style=\"color: #374151; text-decoration-color: #374151; font-style: italic\">False</span><span style=\"color: #374151; text-decoration-color: #374151\">, </span><span style=\"color: #374151; text-decoration-color: #374151\">async_mode</span><span style=\"color: #374151; text-decoration-color: #374151\">=</span><span style=\"color: #374151; text-decoration-color: #374151; font-style: italic\">True</span><span style=\"color: #374151; text-decoration-color: #374151; font-weight: bold\">)</span><span style=\"color: #374151; text-decoration-color: #374151\">...</span>\n",
              "</pre>\n"
            ],
            "text/plain": [
              "✨ You're running DeepEval's latest \u001b[38;2;106;0;255mNovelty \u001b[0m\u001b[1;38;2;106;0;255m(\u001b[0m\u001b[38;2;106;0;255mGEval\u001b[0m\u001b[1;38;2;106;0;255m)\u001b[0m\u001b[38;2;106;0;255m Metric\u001b[0m! \u001b[1;38;2;55;65;81m(\u001b[0m\u001b[38;2;55;65;81musing gpt-4o, \u001b[0m\u001b[38;2;55;65;81mstrict\u001b[0m\u001b[38;2;55;65;81m=\u001b[0m\u001b[3;38;2;55;65;81mFalse\u001b[0m\u001b[38;2;55;65;81m, \u001b[0m\u001b[38;2;55;65;81masync_mode\u001b[0m\u001b[38;2;55;65;81m=\u001b[0m\u001b[3;38;2;55;65;81mTrue\u001b[0m\u001b[1;38;2;55;65;81m)\u001b[0m\u001b[38;2;55;65;81m...\u001b[0m\n"
            ]
          },
          "metadata": {},
          "output_type": "display_data"
        },
        {
          "data": {
            "text/html": [
              "<pre style=\"white-space:pre;overflow-x:auto;line-height:normal;font-family:Menlo,'DejaVu Sans Mono',consolas,'Courier New',monospace\">✨ You're running DeepEval's latest <span style=\"color: #6a00ff; text-decoration-color: #6a00ff\">Domain Relevance </span><span style=\"color: #6a00ff; text-decoration-color: #6a00ff; font-weight: bold\">(</span><span style=\"color: #6a00ff; text-decoration-color: #6a00ff\">GEval</span><span style=\"color: #6a00ff; text-decoration-color: #6a00ff; font-weight: bold\">)</span><span style=\"color: #6a00ff; text-decoration-color: #6a00ff\"> Metric</span>! <span style=\"color: #374151; text-decoration-color: #374151; font-weight: bold\">(</span><span style=\"color: #374151; text-decoration-color: #374151\">using gpt-4o, </span><span style=\"color: #374151; text-decoration-color: #374151\">strict</span><span style=\"color: #374151; text-decoration-color: #374151\">=</span><span style=\"color: #374151; text-decoration-color: #374151; font-style: italic\">False</span><span style=\"color: #374151; text-decoration-color: #374151\">, </span>\n",
              "<span style=\"color: #374151; text-decoration-color: #374151\">async_mode</span><span style=\"color: #374151; text-decoration-color: #374151\">=</span><span style=\"color: #374151; text-decoration-color: #374151; font-style: italic\">True</span><span style=\"color: #374151; text-decoration-color: #374151; font-weight: bold\">)</span><span style=\"color: #374151; text-decoration-color: #374151\">...</span>\n",
              "</pre>\n"
            ],
            "text/plain": [
              "✨ You're running DeepEval's latest \u001b[38;2;106;0;255mDomain Relevance \u001b[0m\u001b[1;38;2;106;0;255m(\u001b[0m\u001b[38;2;106;0;255mGEval\u001b[0m\u001b[1;38;2;106;0;255m)\u001b[0m\u001b[38;2;106;0;255m Metric\u001b[0m! \u001b[1;38;2;55;65;81m(\u001b[0m\u001b[38;2;55;65;81musing gpt-4o, \u001b[0m\u001b[38;2;55;65;81mstrict\u001b[0m\u001b[38;2;55;65;81m=\u001b[0m\u001b[3;38;2;55;65;81mFalse\u001b[0m\u001b[38;2;55;65;81m, \u001b[0m\n",
              "\u001b[38;2;55;65;81masync_mode\u001b[0m\u001b[38;2;55;65;81m=\u001b[0m\u001b[3;38;2;55;65;81mTrue\u001b[0m\u001b[1;38;2;55;65;81m)\u001b[0m\u001b[38;2;55;65;81m...\u001b[0m\n"
            ]
          },
          "metadata": {},
          "output_type": "display_data"
        },
        {
          "name": "stderr",
          "output_type": "stream",
          "text": [
            "Evaluating 1 test case(s) in parallel: |██████████|100% (1/1) [Time Taken: 00:04,  4.34s/test case]"
          ]
        },
        {
          "name": "stdout",
          "output_type": "stream",
          "text": [
            "\n",
            "======================================================================\n",
            "\n",
            "Metrics Summary\n",
            "\n",
            "  - ✅ Insightful (GEval) (score: 0.8771895692767624, threshold: 0.5, strict: False, evaluation model: gpt-4o, reason: The output effectively connects patterns in the CRM dataset, such as acquisition channels and customer demographics, to insights on customer retention and CLV. It offers deeper understanding by suggesting predictive analysis and strategies for optimizing customer engagement, which are not immediately obvious from the input. The analysis is creative, revealing new perspectives on leveraging CRM data for targeted marketing and resource allocation., error: None)\n",
            "  - ✅ Novelty (GEval) (score: 0.8262005544713571, threshold: 0.5, strict: False, evaluation model: gpt-4o, reason: The output provides insights into customer engagement and financial contributions, identifies potential predictive analysis areas, and suggests strategies for optimizing customer profitability, which are not obvious from the input data. It offers novel perspectives on acquisition channels and customer demographics, challenging assumptions about customer retention and CLV. However, it could further challenge existing assumptions or introduce unexpected findings to achieve a higher score., error: None)\n",
            "  - ✅ Domain Relevance (GEval) (score: 0.9880797082671462, threshold: 0.5, strict: False, evaluation model: gpt-4o, reason: The output effectively uses CRM-specific terms like 'acquisition channel', 'retention', 'churn', and 'periods active'. It describes CRM processes such as customer lifecycle, retention strategies, and predictive analysis relevant to the input. The examples and use-cases, such as analyzing 'Acquisition Channel' and 'Expected CLV', align with CRM concepts from the input. The focus remains on CRM topics without introducing unrelated information., error: None)\n",
            "\n",
            "For test case:\n",
            "\n",
            "  - input: Customer Relationship Management dataset with features like acquisition channel, retention, churn, periods active, etc.\n",
            "  - actual output: The dataset provides a comprehensive view of customer interactions and lifecycle within a CRM context, capturing 3,117 unique customer records across 19 attributes. Key metrics include 'Periods Active', 'Revenue, Total', and 'Expected CLV', which offer insights into customer engagement and financial contributions. The data reveals that most customers are relatively new, with an average of 1.97 periods active, and a significant portion of revenue is derived from 'Maker Revenue'. The dataset also highlights the diversity in acquisition channels and customer demographics, such as region and company size, which can influence customer behavior and value. Predictive analysis could focus on identifying factors that contribute to higher 'Expected CLV' and customer retention. By examining correlations between 'Acquisition Channel', 'Premium (Y/N)', and 'Periods Active', we can develop models to predict customer churn and lifetime value. For instance, customers acquired through internal channels and those with premium status may exhibit higher retention rates and CLV. Additionally, analyzing the impact of 'No. Maker Contracts' and 'No. Advanced Contracts' on revenue streams could uncover strategies to optimize contract offerings and enhance customer profitability. In the CRM domain, understanding customer lifecycle stages and retention strategies is crucial. This dataset provides a foundation for exploring how different acquisition channels and customer demographics affect retention and sales growth. The high variance in 'Expected CLV' suggests opportunities for targeted customer service improvements and personalized marketing strategies. By leveraging CRM technologies to analyze 'Customer ID' and 'Period Acquired', companies can tailor their engagement approaches, focusing on high-value customers and optimizing resource allocation to maximize sales growth and customer satisfaction.\n",
            "  - expected output: None\n",
            "  - context: None\n",
            "  - retrieval context: None\n",
            "\n",
            "======================================================================\n",
            "\n",
            "Overall Metric Pass Rates\n",
            "\n",
            "Insightful (GEval): 100.00% pass rate\n",
            "Novelty (GEval): 100.00% pass rate\n",
            "Domain Relevance (GEval): 100.00% pass rate\n",
            "\n",
            "======================================================================\n",
            "\n"
          ]
        },
        {
          "name": "stderr",
          "output_type": "stream",
          "text": [
            "\n"
          ]
        },
        {
          "data": {
            "text/html": [
              "<pre style=\"white-space:pre;overflow-x:auto;line-height:normal;font-family:Menlo,'DejaVu Sans Mono',consolas,'Courier New',monospace\">\n",
              "<span style=\"color: #05f58d; text-decoration-color: #05f58d\">✓</span> Tests finished 🎉! Run <span style=\"color: #008000; text-decoration-color: #008000; font-weight: bold\">'deepeval login'</span> to save and analyze evaluation results on Confident AI.\n",
              " \n",
              "✨👀 Looking for a place for your LLM test data to live 🏡❤️ ? Use <span style=\"color: #6a00ff; text-decoration-color: #6a00ff\">Confident AI</span> to get &amp; share testing reports, \n",
              "experiment with models/prompts, and catch regressions for your LLM system. Just run <span style=\"color: #008080; text-decoration-color: #008080\">'deepeval login'</span> in the CLI. \n",
              "\n",
              "</pre>\n"
            ],
            "text/plain": [
              "\n",
              "\u001b[38;2;5;245;141m✓\u001b[0m Tests finished 🎉! Run \u001b[1;32m'deepeval login'\u001b[0m to save and analyze evaluation results on Confident AI.\n",
              " \n",
              "✨👀 Looking for a place for your LLM test data to live 🏡❤️ ? Use \u001b[38;2;106;0;255mConfident AI\u001b[0m to get & share testing reports, \n",
              "experiment with models/prompts, and catch regressions for your LLM system. Just run \u001b[36m'deepeval login'\u001b[0m in the CLI. \n",
              "\n"
            ]
          },
          "metadata": {},
          "output_type": "display_data"
        },
        {
          "ename": "AttributeError",
          "evalue": "'str' object has no attribute 'input'",
          "output_type": "error",
          "traceback": [
            "\u001b[0;31m---------------------------------------------------------------------------\u001b[0m",
            "\u001b[0;31mAttributeError\u001b[0m                            Traceback (most recent call last)",
            "Cell \u001b[0;32mIn[7], line 11\u001b[0m\n\u001b[1;32m      8\u001b[0m \u001b[38;5;66;03m# ── pretty‑print ───────────────────────────────\u001b[39;00m\n\u001b[1;32m      9\u001b[0m \u001b[38;5;66;03m# Each element of `results` is a tuple: (test_case_sys, metric_results)\u001b[39;00m\n\u001b[1;32m     10\u001b[0m \u001b[38;5;28;01mfor\u001b[39;00m test_case, metric_results \u001b[38;5;129;01min\u001b[39;00m results_sys:\n\u001b[0;32m---> 11\u001b[0m     \u001b[38;5;28mprint\u001b[39m(\u001b[38;5;124mf\u001b[39m\u001b[38;5;124m\"\u001b[39m\u001b[38;5;130;01m\\n\u001b[39;00m\u001b[38;5;124mInput:  \u001b[39m\u001b[38;5;132;01m{\u001b[39;00mtest_case\u001b[38;5;241m.\u001b[39minput\u001b[38;5;132;01m}\u001b[39;00m\u001b[38;5;124m\"\u001b[39m)\n\u001b[1;32m     12\u001b[0m     \u001b[38;5;28;01mfor\u001b[39;00m name, m_res \u001b[38;5;129;01min\u001b[39;00m metric_results\u001b[38;5;241m.\u001b[39mitems():\n\u001b[1;32m     13\u001b[0m         \u001b[38;5;28mprint\u001b[39m(\u001b[38;5;124mf\u001b[39m\u001b[38;5;124m\"\u001b[39m\u001b[38;5;132;01m{\u001b[39;00mname\u001b[38;5;132;01m:\u001b[39;00m\u001b[38;5;124m<17\u001b[39m\u001b[38;5;132;01m}\u001b[39;00m\u001b[38;5;124m: \u001b[39m\u001b[38;5;132;01m{\u001b[39;00mm_res\u001b[38;5;241m.\u001b[39mscore\u001b[38;5;132;01m:\u001b[39;00m\u001b[38;5;124m.2f\u001b[39m\u001b[38;5;132;01m}\u001b[39;00m\u001b[38;5;124m  |  \u001b[39m\u001b[38;5;132;01m{\u001b[39;00mm_res\u001b[38;5;241m.\u001b[39mreasoning\u001b[38;5;132;01m}\u001b[39;00m\u001b[38;5;124m\"\u001b[39m)\n",
            "\u001b[0;31mAttributeError\u001b[0m: 'str' object has no attribute 'input'"
          ]
        }
      ],
      "source": [
        "from deepeval import evaluate\n",
        "\n",
        "results_sys = evaluate(\n",
        "    test_cases=[test_case_sys],\n",
        "    metrics=[insightful, novelty, domain_relevance],\n",
        ")\n",
        "\n",
        "# ── pretty‑print ───────────────────────────────\n",
        "# Each element of `results` is a tuple: (test_case_sys, metric_results)\n",
        "for test_case, metric_results in results_sys:\n",
        "    print(f\"\\nInput:  {test_case.input}\")\n",
        "    for name, m_res in metric_results.items():\n",
        "        print(f\"{name:<17}: {m_res.score:.2f}  |  {m_res.reasoning}\")\n",
        "\n",
        "\n"
      ]
    },
    {
      "cell_type": "code",
      "execution_count": 8,
      "metadata": {},
      "outputs": [
        {
          "data": {
            "text/html": [
              "<pre style=\"white-space:pre;overflow-x:auto;line-height:normal;font-family:Menlo,'DejaVu Sans Mono',consolas,'Courier New',monospace\">✨ You're running DeepEval's latest <span style=\"color: #6a00ff; text-decoration-color: #6a00ff\">Insightful </span><span style=\"color: #6a00ff; text-decoration-color: #6a00ff; font-weight: bold\">(</span><span style=\"color: #6a00ff; text-decoration-color: #6a00ff\">GEval</span><span style=\"color: #6a00ff; text-decoration-color: #6a00ff; font-weight: bold\">)</span><span style=\"color: #6a00ff; text-decoration-color: #6a00ff\"> Metric</span>! <span style=\"color: #374151; text-decoration-color: #374151; font-weight: bold\">(</span><span style=\"color: #374151; text-decoration-color: #374151\">using gpt-4o, </span><span style=\"color: #374151; text-decoration-color: #374151\">strict</span><span style=\"color: #374151; text-decoration-color: #374151\">=</span><span style=\"color: #374151; text-decoration-color: #374151; font-style: italic\">False</span><span style=\"color: #374151; text-decoration-color: #374151\">, </span><span style=\"color: #374151; text-decoration-color: #374151\">async_mode</span><span style=\"color: #374151; text-decoration-color: #374151\">=</span><span style=\"color: #374151; text-decoration-color: #374151; font-style: italic\">True</span><span style=\"color: #374151; text-decoration-color: #374151; font-weight: bold\">)</span><span style=\"color: #374151; text-decoration-color: #374151\">...</span>\n",
              "</pre>\n"
            ],
            "text/plain": [
              "✨ You're running DeepEval's latest \u001b[38;2;106;0;255mInsightful \u001b[0m\u001b[1;38;2;106;0;255m(\u001b[0m\u001b[38;2;106;0;255mGEval\u001b[0m\u001b[1;38;2;106;0;255m)\u001b[0m\u001b[38;2;106;0;255m Metric\u001b[0m! \u001b[1;38;2;55;65;81m(\u001b[0m\u001b[38;2;55;65;81musing gpt-4o, \u001b[0m\u001b[38;2;55;65;81mstrict\u001b[0m\u001b[38;2;55;65;81m=\u001b[0m\u001b[3;38;2;55;65;81mFalse\u001b[0m\u001b[38;2;55;65;81m, \u001b[0m\u001b[38;2;55;65;81masync_mode\u001b[0m\u001b[38;2;55;65;81m=\u001b[0m\u001b[3;38;2;55;65;81mTrue\u001b[0m\u001b[1;38;2;55;65;81m)\u001b[0m\u001b[38;2;55;65;81m...\u001b[0m\n"
            ]
          },
          "metadata": {},
          "output_type": "display_data"
        },
        {
          "data": {
            "text/html": [
              "<pre style=\"white-space:pre;overflow-x:auto;line-height:normal;font-family:Menlo,'DejaVu Sans Mono',consolas,'Courier New',monospace\">✨ You're running DeepEval's latest <span style=\"color: #6a00ff; text-decoration-color: #6a00ff\">Novelty </span><span style=\"color: #6a00ff; text-decoration-color: #6a00ff; font-weight: bold\">(</span><span style=\"color: #6a00ff; text-decoration-color: #6a00ff\">GEval</span><span style=\"color: #6a00ff; text-decoration-color: #6a00ff; font-weight: bold\">)</span><span style=\"color: #6a00ff; text-decoration-color: #6a00ff\"> Metric</span>! <span style=\"color: #374151; text-decoration-color: #374151; font-weight: bold\">(</span><span style=\"color: #374151; text-decoration-color: #374151\">using gpt-4o, </span><span style=\"color: #374151; text-decoration-color: #374151\">strict</span><span style=\"color: #374151; text-decoration-color: #374151\">=</span><span style=\"color: #374151; text-decoration-color: #374151; font-style: italic\">False</span><span style=\"color: #374151; text-decoration-color: #374151\">, </span><span style=\"color: #374151; text-decoration-color: #374151\">async_mode</span><span style=\"color: #374151; text-decoration-color: #374151\">=</span><span style=\"color: #374151; text-decoration-color: #374151; font-style: italic\">True</span><span style=\"color: #374151; text-decoration-color: #374151; font-weight: bold\">)</span><span style=\"color: #374151; text-decoration-color: #374151\">...</span>\n",
              "</pre>\n"
            ],
            "text/plain": [
              "✨ You're running DeepEval's latest \u001b[38;2;106;0;255mNovelty \u001b[0m\u001b[1;38;2;106;0;255m(\u001b[0m\u001b[38;2;106;0;255mGEval\u001b[0m\u001b[1;38;2;106;0;255m)\u001b[0m\u001b[38;2;106;0;255m Metric\u001b[0m! \u001b[1;38;2;55;65;81m(\u001b[0m\u001b[38;2;55;65;81musing gpt-4o, \u001b[0m\u001b[38;2;55;65;81mstrict\u001b[0m\u001b[38;2;55;65;81m=\u001b[0m\u001b[3;38;2;55;65;81mFalse\u001b[0m\u001b[38;2;55;65;81m, \u001b[0m\u001b[38;2;55;65;81masync_mode\u001b[0m\u001b[38;2;55;65;81m=\u001b[0m\u001b[3;38;2;55;65;81mTrue\u001b[0m\u001b[1;38;2;55;65;81m)\u001b[0m\u001b[38;2;55;65;81m...\u001b[0m\n"
            ]
          },
          "metadata": {},
          "output_type": "display_data"
        },
        {
          "data": {
            "text/html": [
              "<pre style=\"white-space:pre;overflow-x:auto;line-height:normal;font-family:Menlo,'DejaVu Sans Mono',consolas,'Courier New',monospace\">✨ You're running DeepEval's latest <span style=\"color: #6a00ff; text-decoration-color: #6a00ff\">Domain Relevance </span><span style=\"color: #6a00ff; text-decoration-color: #6a00ff; font-weight: bold\">(</span><span style=\"color: #6a00ff; text-decoration-color: #6a00ff\">GEval</span><span style=\"color: #6a00ff; text-decoration-color: #6a00ff; font-weight: bold\">)</span><span style=\"color: #6a00ff; text-decoration-color: #6a00ff\"> Metric</span>! <span style=\"color: #374151; text-decoration-color: #374151; font-weight: bold\">(</span><span style=\"color: #374151; text-decoration-color: #374151\">using gpt-4o, </span><span style=\"color: #374151; text-decoration-color: #374151\">strict</span><span style=\"color: #374151; text-decoration-color: #374151\">=</span><span style=\"color: #374151; text-decoration-color: #374151; font-style: italic\">False</span><span style=\"color: #374151; text-decoration-color: #374151\">, </span>\n",
              "<span style=\"color: #374151; text-decoration-color: #374151\">async_mode</span><span style=\"color: #374151; text-decoration-color: #374151\">=</span><span style=\"color: #374151; text-decoration-color: #374151; font-style: italic\">True</span><span style=\"color: #374151; text-decoration-color: #374151; font-weight: bold\">)</span><span style=\"color: #374151; text-decoration-color: #374151\">...</span>\n",
              "</pre>\n"
            ],
            "text/plain": [
              "✨ You're running DeepEval's latest \u001b[38;2;106;0;255mDomain Relevance \u001b[0m\u001b[1;38;2;106;0;255m(\u001b[0m\u001b[38;2;106;0;255mGEval\u001b[0m\u001b[1;38;2;106;0;255m)\u001b[0m\u001b[38;2;106;0;255m Metric\u001b[0m! \u001b[1;38;2;55;65;81m(\u001b[0m\u001b[38;2;55;65;81musing gpt-4o, \u001b[0m\u001b[38;2;55;65;81mstrict\u001b[0m\u001b[38;2;55;65;81m=\u001b[0m\u001b[3;38;2;55;65;81mFalse\u001b[0m\u001b[38;2;55;65;81m, \u001b[0m\n",
              "\u001b[38;2;55;65;81masync_mode\u001b[0m\u001b[38;2;55;65;81m=\u001b[0m\u001b[3;38;2;55;65;81mTrue\u001b[0m\u001b[1;38;2;55;65;81m)\u001b[0m\u001b[38;2;55;65;81m...\u001b[0m\n"
            ]
          },
          "metadata": {},
          "output_type": "display_data"
        },
        {
          "name": "stderr",
          "output_type": "stream",
          "text": [
            "Evaluating 1 test case(s) in parallel: |██████████|100% (1/1) [Time Taken: 00:03,  3.61s/test case]"
          ]
        },
        {
          "name": "stdout",
          "output_type": "stream",
          "text": [
            "\n",
            "======================================================================\n",
            "\n",
            "Metrics Summary\n",
            "\n",
            "  - ✅ Insightful (GEval) (score: 0.7819834938204584, threshold: 0.5, strict: False, evaluation model: gpt-4o, reason: The output provides insights beyond surface-level information by identifying potential issues with retention strategies and reliance on external channels. It highlights hidden patterns like the focus on emerging businesses and the potential for growth in premium customers. The connection between CLV and revenue offers a unique perspective. However, it doesn't significantly challenge conventional wisdom or present unexpected interpretations., error: None)\n",
            "  - ✅ Novelty (GEval) (score: 0.645442406712409, threshold: 0.5, strict: False, evaluation model: gpt-4o, reason: The output provides insights such as the reliance on external channels for acquisition and the potential for growth in premium customers, which are not immediately obvious. However, it lacks a novel perspective that would significantly intrigue a domain expert, as it mostly describes standard observations from the dataset., error: None)\n",
            "  - ✅ Domain Relevance (GEval) (score: 0.7546357474020444, threshold: 0.5, strict: False, evaluation model: gpt-4o, reason: The Actual Output discusses customer retention, acquisition channels, and customer lifetime value, which are relevant to CRM. However, it lacks explicit mention of CRM-specific terms like 'sales pipeline' or 'lead generation' and does not directly reference CRM relationships., error: None)\n",
            "\n",
            "For test case:\n",
            "\n",
            "  - input: Customer Relationship Management dataset with features like acquisition channel, retention, churn, periods active, etc.\n",
            "  - actual output: The majority of customers have terminated their contracts, indicating potential issues with customer retention strategies. Most customers are acquired through external channels, suggesting a reliance on external marketing or partnerships for customer acquisition. The majority of customers are small companies, and a significant portion are relatively new (0-5 years old), indicating a potential focus on emerging businesses. The average expected customer lifetime value (CLV) is significantly higher than the average revenue, suggesting high future revenue potential from existing customers. Customers tend to have a balanced mix of maker and advanced contracts, with a slight preference for maker contracts. There is a very low number of premium customers, indicating a potential area for growth by converting more customers to premium status.\n",
            "  - expected output: None\n",
            "  - context: None\n",
            "  - retrieval context: None\n",
            "\n",
            "======================================================================\n",
            "\n",
            "Overall Metric Pass Rates\n",
            "\n",
            "Insightful (GEval): 100.00% pass rate\n",
            "Novelty (GEval): 100.00% pass rate\n",
            "Domain Relevance (GEval): 100.00% pass rate\n",
            "\n",
            "======================================================================\n",
            "\n"
          ]
        },
        {
          "name": "stderr",
          "output_type": "stream",
          "text": [
            "\n"
          ]
        },
        {
          "data": {
            "text/html": [
              "<pre style=\"white-space:pre;overflow-x:auto;line-height:normal;font-family:Menlo,'DejaVu Sans Mono',consolas,'Courier New',monospace\">\n",
              "<span style=\"color: #05f58d; text-decoration-color: #05f58d\">✓</span> Tests finished 🎉! Run <span style=\"color: #008000; text-decoration-color: #008000; font-weight: bold\">'deepeval login'</span> to save and analyze evaluation results on Confident AI.\n",
              " \n",
              "✨👀 Looking for a place for your LLM test data to live 🏡❤️ ? Use <span style=\"color: #6a00ff; text-decoration-color: #6a00ff\">Confident AI</span> to get &amp; share testing reports, \n",
              "experiment with models/prompts, and catch regressions for your LLM system. Just run <span style=\"color: #008080; text-decoration-color: #008080\">'deepeval login'</span> in the CLI. \n",
              "\n",
              "</pre>\n"
            ],
            "text/plain": [
              "\n",
              "\u001b[38;2;5;245;141m✓\u001b[0m Tests finished 🎉! Run \u001b[1;32m'deepeval login'\u001b[0m to save and analyze evaluation results on Confident AI.\n",
              " \n",
              "✨👀 Looking for a place for your LLM test data to live 🏡❤️ ? Use \u001b[38;2;106;0;255mConfident AI\u001b[0m to get & share testing reports, \n",
              "experiment with models/prompts, and catch regressions for your LLM system. Just run \u001b[36m'deepeval login'\u001b[0m in the CLI. \n",
              "\n"
            ]
          },
          "metadata": {},
          "output_type": "display_data"
        },
        {
          "ename": "AttributeError",
          "evalue": "'str' object has no attribute 'input'",
          "output_type": "error",
          "traceback": [
            "\u001b[0;31m---------------------------------------------------------------------------\u001b[0m",
            "\u001b[0;31mAttributeError\u001b[0m                            Traceback (most recent call last)",
            "Cell \u001b[0;32mIn[8], line 9\u001b[0m\n\u001b[1;32m      6\u001b[0m \u001b[38;5;66;03m# ── pretty‑print ───────────────────────────────\u001b[39;00m\n\u001b[1;32m      7\u001b[0m \u001b[38;5;66;03m# Each element of `results` is a tuple: (test_case_sys, metric_results)\u001b[39;00m\n\u001b[1;32m      8\u001b[0m \u001b[38;5;28;01mfor\u001b[39;00m test_case, metric_results \u001b[38;5;129;01min\u001b[39;00m results_gpt4o:\n\u001b[0;32m----> 9\u001b[0m     \u001b[38;5;28mprint\u001b[39m(\u001b[38;5;124mf\u001b[39m\u001b[38;5;124m\"\u001b[39m\u001b[38;5;130;01m\\n\u001b[39;00m\u001b[38;5;124mInput:  \u001b[39m\u001b[38;5;132;01m{\u001b[39;00mtest_case\u001b[38;5;241m.\u001b[39minput\u001b[38;5;132;01m}\u001b[39;00m\u001b[38;5;124m\"\u001b[39m)\n\u001b[1;32m     10\u001b[0m     \u001b[38;5;28;01mfor\u001b[39;00m name, m_res \u001b[38;5;129;01min\u001b[39;00m metric_results\u001b[38;5;241m.\u001b[39mitems():\n\u001b[1;32m     11\u001b[0m         \u001b[38;5;28mprint\u001b[39m(\u001b[38;5;124mf\u001b[39m\u001b[38;5;124m\"\u001b[39m\u001b[38;5;132;01m{\u001b[39;00mname\u001b[38;5;132;01m:\u001b[39;00m\u001b[38;5;124m<17\u001b[39m\u001b[38;5;132;01m}\u001b[39;00m\u001b[38;5;124m: \u001b[39m\u001b[38;5;132;01m{\u001b[39;00mm_res\u001b[38;5;241m.\u001b[39mscore\u001b[38;5;132;01m:\u001b[39;00m\u001b[38;5;124m.2f\u001b[39m\u001b[38;5;132;01m}\u001b[39;00m\u001b[38;5;124m  |  \u001b[39m\u001b[38;5;132;01m{\u001b[39;00mm_res\u001b[38;5;241m.\u001b[39mreasoning\u001b[38;5;132;01m}\u001b[39;00m\u001b[38;5;124m\"\u001b[39m)\n",
            "\u001b[0;31mAttributeError\u001b[0m: 'str' object has no attribute 'input'"
          ]
        }
      ],
      "source": [
        "results_gpt4o = evaluate(\n",
        "    test_cases=[test_case_gpt4o],\n",
        "    metrics=[insightful, novelty, domain_relevance],\n",
        ")\n",
        "\n",
        "# ── pretty‑print ───────────────────────────────\n",
        "# Each element of `results` is a tuple: (test_case_sys, metric_results)\n",
        "for test_case, metric_results in results_gpt4o:\n",
        "    print(f\"\\nInput:  {test_case.input}\")\n",
        "    for name, m_res in metric_results.items():\n",
        "        print(f\"{name:<17}: {m_res.score:.2f}  |  {m_res.reasoning}\")"
      ]
    },
    {
      "cell_type": "code",
      "execution_count": null,
      "metadata": {},
      "outputs": [],
      "source": []
    }
  ],
  "metadata": {
    "colab": {
      "provenance": []
    },
    "kernelspec": {
      "display_name": "Python 3",
      "name": "python3"
    },
    "language_info": {
      "codemirror_mode": {
        "name": "ipython",
        "version": 3
      },
      "file_extension": ".py",
      "mimetype": "text/x-python",
      "name": "python",
      "nbconvert_exporter": "python",
      "pygments_lexer": "ipython3",
      "version": "3.9.6"
    }
  },
  "nbformat": 4,
  "nbformat_minor": 0
}
