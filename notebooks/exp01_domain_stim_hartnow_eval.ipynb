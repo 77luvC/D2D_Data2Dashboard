{
  "cells": [
    {
      "cell_type": "code",
      "execution_count": 4,
      "metadata": {},
      "outputs": [
        {
          "name": "stdout",
          "output_type": "stream",
          "text": [
            "\n",
            "=== Insight Evaluation Report ===\n"
          ]
        },
        {
          "name": "stderr",
          "output_type": "stream",
          "text": [
            "Evaluating 1 test case(s) in parallel: |██████████|100% (1/1) [Time Taken: 00:06,  6.54s/test case]\n"
          ]
        }
      ],
      "source": [
        "import json\n",
        "import pandas as pd\n",
        "from deepeval.test_case import LLMTestCase\n",
        "from deepeval.metrics import GEval\n",
        "from deepeval import assert_test\n",
        "from deepeval.test_case import LLMTestCaseParams\n",
        "\n",
        "# Load model outputs — each element is a JSON string\n",
        "with open(\"/Users/zhangran/Desktop/BP@UnitedStates/Code/D2D_Data2Dashboard/notebooks/exp01_domain_stim_harnow_output.json\", \"r\") as f:\n",
        "    output = json.load(f)\n",
        "\n",
        "insight = (\n",
        "    output[\"analysis\"][\"descriptive\"] + \" \" +\n",
        "    output[\"analysis\"][\"predictive\"] + \" \" +\n",
        "    output[\"analysis\"][\"domain_related\"]\n",
        ")\n",
        "\n",
        "# 3. Create a test case without reference output\n",
        "test_case = LLMTestCase(\n",
        "    input=\"Customer Relationship Management dataset with features like Current Period\tCustomer ID\tPeriods Active\tCurrent Customer (Y/N)\tPeriod Acquired\tPeriod Terminated\tAcquisition Channel\tSector\tReferred (Y/N)\tPremium (Y/N)\tRegion\tCo. Age\tSize\tNo. Maker Contracts\tNo. Advanced Contracts\tRevenue, Total\tMaker Revenue\tAdvanced Revenue\tExpected CLV.\",\n",
        "    actual_output=insight,\n",
        ")\n",
        "\n",
        "# 4. Define GEval metrics (self-evaluation — no expected_output)\n",
        "insightful = GEval(\n",
        "    name=\"Insightful\",\n",
        "    criteria=\"Does the output offer a deep or non-obvious understanding? Does it connect patterns or trends that aren't immediately apparent?\",\n",
        "    evaluation_params=[LLMTestCaseParams.INPUT, LLMTestCaseParams.ACTUAL_OUTPUT],\n",
        ")\n",
        "\n",
        "novelty = GEval(\n",
        "    name=\"Novelty\",\n",
        "    criteria=\"Does the output go beyond generic interpretation? Would it surprise or teach something new to a domain expert?\",\n",
        "    evaluation_params=[LLMTestCaseParams.INPUT, LLMTestCaseParams.ACTUAL_OUTPUT],\n",
        ")\n",
        "\n",
        "domain_relevance = GEval(\n",
        "    name=\"Domain Relevance\",\n",
        "    criteria=\"Is the output specific to the CRM domain? Does it reference domain-specific terms or relationships?\",\n",
        "    evaluation_params=[LLMTestCaseParams.INPUT, LLMTestCaseParams.ACTUAL_OUTPUT],\n",
        ")\n",
        "\n",
        "# # 5. Run evaluation (assertion-based print)\n",
        "# print(\"\\n=== Insight Evaluation Report ===\")\n",
        "# assert_test(test_case, [insightful, novelty, domain_relevance])\n"
      ]
    },
    {
      "cell_type": "code",
      "execution_count": 5,
      "metadata": {},
      "outputs": [
        {
          "data": {
            "text/html": [
              "<pre style=\"white-space:pre;overflow-x:auto;line-height:normal;font-family:Menlo,'DejaVu Sans Mono',consolas,'Courier New',monospace\">✨ You're running DeepEval's latest <span style=\"color: #6a00ff; text-decoration-color: #6a00ff\">Insightful </span><span style=\"color: #6a00ff; text-decoration-color: #6a00ff; font-weight: bold\">(</span><span style=\"color: #6a00ff; text-decoration-color: #6a00ff\">GEval</span><span style=\"color: #6a00ff; text-decoration-color: #6a00ff; font-weight: bold\">)</span><span style=\"color: #6a00ff; text-decoration-color: #6a00ff\"> Metric</span>! <span style=\"color: #374151; text-decoration-color: #374151; font-weight: bold\">(</span><span style=\"color: #374151; text-decoration-color: #374151\">using gpt-4o, </span><span style=\"color: #374151; text-decoration-color: #374151\">strict</span><span style=\"color: #374151; text-decoration-color: #374151\">=</span><span style=\"color: #374151; text-decoration-color: #374151; font-style: italic\">False</span><span style=\"color: #374151; text-decoration-color: #374151\">, </span><span style=\"color: #374151; text-decoration-color: #374151\">async_mode</span><span style=\"color: #374151; text-decoration-color: #374151\">=</span><span style=\"color: #374151; text-decoration-color: #374151; font-style: italic\">True</span><span style=\"color: #374151; text-decoration-color: #374151; font-weight: bold\">)</span><span style=\"color: #374151; text-decoration-color: #374151\">...</span>\n",
              "</pre>\n"
            ],
            "text/plain": [
              "✨ You're running DeepEval's latest \u001b[38;2;106;0;255mInsightful \u001b[0m\u001b[1;38;2;106;0;255m(\u001b[0m\u001b[38;2;106;0;255mGEval\u001b[0m\u001b[1;38;2;106;0;255m)\u001b[0m\u001b[38;2;106;0;255m Metric\u001b[0m! \u001b[1;38;2;55;65;81m(\u001b[0m\u001b[38;2;55;65;81musing gpt-4o, \u001b[0m\u001b[38;2;55;65;81mstrict\u001b[0m\u001b[38;2;55;65;81m=\u001b[0m\u001b[3;38;2;55;65;81mFalse\u001b[0m\u001b[38;2;55;65;81m, \u001b[0m\u001b[38;2;55;65;81masync_mode\u001b[0m\u001b[38;2;55;65;81m=\u001b[0m\u001b[3;38;2;55;65;81mTrue\u001b[0m\u001b[1;38;2;55;65;81m)\u001b[0m\u001b[38;2;55;65;81m...\u001b[0m\n"
            ]
          },
          "metadata": {},
          "output_type": "display_data"
        },
        {
          "data": {
            "text/html": [
              "<pre style=\"white-space:pre;overflow-x:auto;line-height:normal;font-family:Menlo,'DejaVu Sans Mono',consolas,'Courier New',monospace\">✨ You're running DeepEval's latest <span style=\"color: #6a00ff; text-decoration-color: #6a00ff\">Novelty </span><span style=\"color: #6a00ff; text-decoration-color: #6a00ff; font-weight: bold\">(</span><span style=\"color: #6a00ff; text-decoration-color: #6a00ff\">GEval</span><span style=\"color: #6a00ff; text-decoration-color: #6a00ff; font-weight: bold\">)</span><span style=\"color: #6a00ff; text-decoration-color: #6a00ff\"> Metric</span>! <span style=\"color: #374151; text-decoration-color: #374151; font-weight: bold\">(</span><span style=\"color: #374151; text-decoration-color: #374151\">using gpt-4o, </span><span style=\"color: #374151; text-decoration-color: #374151\">strict</span><span style=\"color: #374151; text-decoration-color: #374151\">=</span><span style=\"color: #374151; text-decoration-color: #374151; font-style: italic\">False</span><span style=\"color: #374151; text-decoration-color: #374151\">, </span><span style=\"color: #374151; text-decoration-color: #374151\">async_mode</span><span style=\"color: #374151; text-decoration-color: #374151\">=</span><span style=\"color: #374151; text-decoration-color: #374151; font-style: italic\">True</span><span style=\"color: #374151; text-decoration-color: #374151; font-weight: bold\">)</span><span style=\"color: #374151; text-decoration-color: #374151\">...</span>\n",
              "</pre>\n"
            ],
            "text/plain": [
              "✨ You're running DeepEval's latest \u001b[38;2;106;0;255mNovelty \u001b[0m\u001b[1;38;2;106;0;255m(\u001b[0m\u001b[38;2;106;0;255mGEval\u001b[0m\u001b[1;38;2;106;0;255m)\u001b[0m\u001b[38;2;106;0;255m Metric\u001b[0m! \u001b[1;38;2;55;65;81m(\u001b[0m\u001b[38;2;55;65;81musing gpt-4o, \u001b[0m\u001b[38;2;55;65;81mstrict\u001b[0m\u001b[38;2;55;65;81m=\u001b[0m\u001b[3;38;2;55;65;81mFalse\u001b[0m\u001b[38;2;55;65;81m, \u001b[0m\u001b[38;2;55;65;81masync_mode\u001b[0m\u001b[38;2;55;65;81m=\u001b[0m\u001b[3;38;2;55;65;81mTrue\u001b[0m\u001b[1;38;2;55;65;81m)\u001b[0m\u001b[38;2;55;65;81m...\u001b[0m\n"
            ]
          },
          "metadata": {},
          "output_type": "display_data"
        },
        {
          "data": {
            "text/html": [
              "<pre style=\"white-space:pre;overflow-x:auto;line-height:normal;font-family:Menlo,'DejaVu Sans Mono',consolas,'Courier New',monospace\">✨ You're running DeepEval's latest <span style=\"color: #6a00ff; text-decoration-color: #6a00ff\">Domain Relevance </span><span style=\"color: #6a00ff; text-decoration-color: #6a00ff; font-weight: bold\">(</span><span style=\"color: #6a00ff; text-decoration-color: #6a00ff\">GEval</span><span style=\"color: #6a00ff; text-decoration-color: #6a00ff; font-weight: bold\">)</span><span style=\"color: #6a00ff; text-decoration-color: #6a00ff\"> Metric</span>! <span style=\"color: #374151; text-decoration-color: #374151; font-weight: bold\">(</span><span style=\"color: #374151; text-decoration-color: #374151\">using gpt-4o, </span><span style=\"color: #374151; text-decoration-color: #374151\">strict</span><span style=\"color: #374151; text-decoration-color: #374151\">=</span><span style=\"color: #374151; text-decoration-color: #374151; font-style: italic\">False</span><span style=\"color: #374151; text-decoration-color: #374151\">, </span>\n",
              "<span style=\"color: #374151; text-decoration-color: #374151\">async_mode</span><span style=\"color: #374151; text-decoration-color: #374151\">=</span><span style=\"color: #374151; text-decoration-color: #374151; font-style: italic\">True</span><span style=\"color: #374151; text-decoration-color: #374151; font-weight: bold\">)</span><span style=\"color: #374151; text-decoration-color: #374151\">...</span>\n",
              "</pre>\n"
            ],
            "text/plain": [
              "✨ You're running DeepEval's latest \u001b[38;2;106;0;255mDomain Relevance \u001b[0m\u001b[1;38;2;106;0;255m(\u001b[0m\u001b[38;2;106;0;255mGEval\u001b[0m\u001b[1;38;2;106;0;255m)\u001b[0m\u001b[38;2;106;0;255m Metric\u001b[0m! \u001b[1;38;2;55;65;81m(\u001b[0m\u001b[38;2;55;65;81musing gpt-4o, \u001b[0m\u001b[38;2;55;65;81mstrict\u001b[0m\u001b[38;2;55;65;81m=\u001b[0m\u001b[3;38;2;55;65;81mFalse\u001b[0m\u001b[38;2;55;65;81m, \u001b[0m\n",
              "\u001b[38;2;55;65;81masync_mode\u001b[0m\u001b[38;2;55;65;81m=\u001b[0m\u001b[3;38;2;55;65;81mTrue\u001b[0m\u001b[1;38;2;55;65;81m)\u001b[0m\u001b[38;2;55;65;81m...\u001b[0m\n"
            ]
          },
          "metadata": {},
          "output_type": "display_data"
        },
        {
          "name": "stderr",
          "output_type": "stream",
          "text": [
            "Evaluating 1 test case(s) in parallel: |██████████|100% (1/1) [Time Taken: 00:05,  5.60s/test case]"
          ]
        },
        {
          "name": "stdout",
          "output_type": "stream",
          "text": [
            "\n",
            "======================================================================\n",
            "\n",
            "Metrics Summary\n",
            "\n",
            "  - ✅ Insightful (GEval) (score: 0.9233963241426375, threshold: 0.5, strict: False, evaluation model: gpt-4o, reason: The output provides a detailed analysis of the dataset, identifying non-obvious insights such as revenue skewness, potential for predictive analysis, and the impact of acquisition channels on retention. It connects patterns like the importance of 'Premium' customers and suggests strategies for CRM improvement, enhancing understanding beyond surface-level characteristics., error: None)\n",
            "  - ✅ Novelty (GEval) (score: 0.7996894863187799, threshold: 0.5, strict: False, evaluation model: gpt-4o, reason: The output provides insights beyond common knowledge by suggesting specific predictive models and strategies for CRM optimization, such as using logistic regression for churn prediction and random forests for CLV prediction. It also highlights the importance of acquisition channels and premium services, which may not be immediately apparent from the dataset alone. However, some insights like revenue skewness and customer segmentation are more standard interpretations., error: None)\n",
            "  - ✅ Domain Relevance (GEval) (score: 0.9932453310737444, threshold: 0.5, strict: False, evaluation model: gpt-4o, reason: The output extensively uses CRM-specific terminology such as 'Customer ID', 'Expected CLV', and 'Current Customer (Y/N)'. It references CRM relationships like customer segments and acquisition channels. The output aligns with CRM processes by discussing customer retention strategies and predictive analysis for churn and CLV, matching the input dataset features., error: None)\n",
            "\n",
            "For test case:\n",
            "\n",
            "  - input: Customer Relationship Management dataset with features like Current Period\tCustomer ID\tPeriods Active\tCurrent Customer (Y/N)\tPeriod Acquired\tPeriod Terminated\tAcquisition Channel\tSector\tReferred (Y/N)\tPremium (Y/N)\tRegion\tCo. Age\tSize\tNo. Maker Contracts\tNo. Advanced Contracts\tRevenue, Total\tMaker Revenue\tAdvanced Revenue\tExpected CLV.\n",
            "  - actual output: The dataset provides a comprehensive view of customer interactions and characteristics within a CRM context, featuring 3,117 records and 19 attributes. Key variables include 'Customer ID', 'Periods Active', 'Current Customer (Y/N)', and 'Expected CLV'. The data reveals that the average customer has been active for approximately 2 periods, with a significant portion of customers having been acquired through external channels. The revenue distribution is notably skewed, with a mean total revenue of $56,568, indicating a few high-revenue customers. The dataset also highlights a diverse range of customer segments based on region, company age, and size, which can be pivotal for targeted marketing strategies. Predictive analysis could focus on churn prediction by leveraging variables such as 'Periods Active', 'Acquisition Channel', and 'Premium (Y/N)'. A logistic regression model could be employed to predict the likelihood of a customer being a 'Current Customer (Y/N)' based on these features. Additionally, machine learning models like random forests could be used to predict 'Expected CLV', taking into account 'Revenue, Total', 'No. Maker Contracts', and 'No. Advanced Contracts'. This approach could help identify high-value customers and optimize retention strategies by focusing on those with a high predicted CLV. In the CRM domain, understanding the interplay between acquisition channels and customer retention is crucial. The dataset suggests that customers acquired through internal channels might have a higher retention rate, as indicated by the 'Current Customer (Y/N)' status. This insight can inform strategies to enhance customer retention by focusing on strengthening internal acquisition efforts. Furthermore, the data reveals that 'Premium' customers, although fewer, contribute significantly to revenue, suggesting that upselling to premium services could be a viable strategy for increasing overall revenue. By segmenting customers based on 'Region' and 'Co. Age', businesses can tailor their CRM strategies to better meet the needs of different customer demographics, potentially improving customer satisfaction and loyalty.\n",
            "  - expected output: None\n",
            "  - context: None\n",
            "  - retrieval context: None\n",
            "\n",
            "======================================================================\n",
            "\n",
            "Overall Metric Pass Rates\n",
            "\n",
            "Insightful (GEval): 100.00% pass rate\n",
            "Novelty (GEval): 100.00% pass rate\n",
            "Domain Relevance (GEval): 100.00% pass rate\n",
            "\n",
            "======================================================================\n",
            "\n"
          ]
        },
        {
          "name": "stderr",
          "output_type": "stream",
          "text": [
            "\n"
          ]
        },
        {
          "data": {
            "text/html": [
              "<pre style=\"white-space:pre;overflow-x:auto;line-height:normal;font-family:Menlo,'DejaVu Sans Mono',consolas,'Courier New',monospace\">\n",
              "<span style=\"color: #05f58d; text-decoration-color: #05f58d\">✓</span> Tests finished 🎉! Run <span style=\"color: #008000; text-decoration-color: #008000; font-weight: bold\">'deepeval login'</span> to save and analyze evaluation results on Confident AI.\n",
              " \n",
              "✨👀 Looking for a place for your LLM test data to live 🏡❤️ ? Use <span style=\"color: #6a00ff; text-decoration-color: #6a00ff\">Confident AI</span> to get &amp; share testing reports, \n",
              "experiment with models/prompts, and catch regressions for your LLM system. Just run <span style=\"color: #008080; text-decoration-color: #008080\">'deepeval login'</span> in the CLI. \n",
              "\n",
              "</pre>\n"
            ],
            "text/plain": [
              "\n",
              "\u001b[38;2;5;245;141m✓\u001b[0m Tests finished 🎉! Run \u001b[1;32m'deepeval login'\u001b[0m to save and analyze evaluation results on Confident AI.\n",
              " \n",
              "✨👀 Looking for a place for your LLM test data to live 🏡❤️ ? Use \u001b[38;2;106;0;255mConfident AI\u001b[0m to get & share testing reports, \n",
              "experiment with models/prompts, and catch regressions for your LLM system. Just run \u001b[36m'deepeval login'\u001b[0m in the CLI. \n",
              "\n"
            ]
          },
          "metadata": {},
          "output_type": "display_data"
        },
        {
          "ename": "AttributeError",
          "evalue": "'tuple' object has no attribute 'test_case'",
          "output_type": "error",
          "traceback": [
            "\u001b[0;31m---------------------------------------------------------------------------\u001b[0m",
            "\u001b[0;31mAttributeError\u001b[0m                            Traceback (most recent call last)",
            "Cell \u001b[0;32mIn[5], line 10\u001b[0m\n\u001b[1;32m      8\u001b[0m \u001b[38;5;66;03m# ── pretty-print ───────────────────────────────\u001b[39;00m\n\u001b[1;32m      9\u001b[0m \u001b[38;5;28;01mfor\u001b[39;00m res \u001b[38;5;129;01min\u001b[39;00m results:\n\u001b[0;32m---> 10\u001b[0m     \u001b[38;5;28mprint\u001b[39m(\u001b[38;5;124mf\u001b[39m\u001b[38;5;124m\"\u001b[39m\u001b[38;5;130;01m\\n\u001b[39;00m\u001b[38;5;124mInput:  \u001b[39m\u001b[38;5;132;01m{\u001b[39;00mres\u001b[38;5;241m.\u001b[39mtest_case\u001b[38;5;241m.\u001b[39minput\u001b[38;5;132;01m}\u001b[39;00m\u001b[38;5;124m\"\u001b[39m)\n\u001b[1;32m     11\u001b[0m     \u001b[38;5;28;01mfor\u001b[39;00m name, m \u001b[38;5;129;01min\u001b[39;00m res\u001b[38;5;241m.\u001b[39mmetric_results\u001b[38;5;241m.\u001b[39mitems():\n\u001b[1;32m     12\u001b[0m         \u001b[38;5;28mprint\u001b[39m(\u001b[38;5;124mf\u001b[39m\u001b[38;5;124m\"\u001b[39m\u001b[38;5;132;01m{\u001b[39;00mname\u001b[38;5;132;01m:\u001b[39;00m\u001b[38;5;124m<17\u001b[39m\u001b[38;5;132;01m}\u001b[39;00m\u001b[38;5;124m: \u001b[39m\u001b[38;5;132;01m{\u001b[39;00mm\u001b[38;5;241m.\u001b[39mscore\u001b[38;5;132;01m:\u001b[39;00m\u001b[38;5;124m.2f\u001b[39m\u001b[38;5;132;01m}\u001b[39;00m\u001b[38;5;124m  |  \u001b[39m\u001b[38;5;132;01m{\u001b[39;00mm\u001b[38;5;241m.\u001b[39mreasoning\u001b[38;5;132;01m}\u001b[39;00m\u001b[38;5;124m\"\u001b[39m)\n",
            "\u001b[0;31mAttributeError\u001b[0m: 'tuple' object has no attribute 'test_case'"
          ]
        }
      ],
      "source": [
        "from deepeval import evaluate\n",
        "\n",
        "results = evaluate(\n",
        "    test_cases=[test_case],\n",
        "    metrics=[insightful, novelty, domain_relevance],\n",
        ")\n",
        "\n",
        "# ── pretty-print ───────────────────────────────\n",
        "for res in results:\n",
        "    print(f\"\\nInput:  {res.test_case.input}\")\n",
        "    for name, m in res.metric_results.items():\n",
        "        print(f\"{name:<17}: {m.score:.2f}  |  {m.reasoning}\")\n"
      ]
    },
    {
      "cell_type": "code",
      "execution_count": null,
      "metadata": {},
      "outputs": [],
      "source": []
    }
  ],
  "metadata": {
    "colab": {
      "provenance": []
    },
    "kernelspec": {
      "display_name": "Python 3",
      "name": "python3"
    },
    "language_info": {
      "codemirror_mode": {
        "name": "ipython",
        "version": 3
      },
      "file_extension": ".py",
      "mimetype": "text/x-python",
      "name": "python",
      "nbconvert_exporter": "python",
      "pygments_lexer": "ipython3",
      "version": "3.9.6"
    }
  },
  "nbformat": 4,
  "nbformat_minor": 0
}
