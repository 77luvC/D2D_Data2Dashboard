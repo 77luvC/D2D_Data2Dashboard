{
  "cells": [
    {
      "cell_type": "code",
      "execution_count": 1,
      "metadata": {},
      "outputs": [],
      "source": [
        "import os\n",
        "import sys\n",
        "import json\n",
        "import pandas as pd\n",
        "from IPython.display import display, HTML\n",
        "import matplotlib.pyplot as plt\n",
        "import seaborn as sns\n",
        "\n",
        "# # ------------------------------------------------------------------\n",
        "# # 1. Make sure Python can find your agent package / module\n",
        "# #    (adapt the path if your repo layout is different)\n",
        "# # ------------------------------------------------------------------\n",
        "ROOT_DIR = os.path.dirname(os.path.dirname(os.path.abspath(\"__file__\")))\n",
        "sys.path.append(ROOT_DIR)\n",
        "\n"
      ]
    },
    {
      "cell_type": "code",
      "execution_count": 2,
      "metadata": {
        "id": "9a-zZYDiwGwf"
      },
      "outputs": [],
      "source": [
        "# import json, pathlib\n",
        "# from agents.insight2dashboard import Insight2DashboardAgent\n",
        "# # --- 1. Paths ---------------------------------------------------------------\n",
        "# csv_path   = \"https://drive.google.com/uc?export=download&id=1MnH19Nf_khJFjN0ErQy5fixIsD-cc-JZ\"  # ► your dataset\n",
        "\n",
        "# # with open(\"/Users/zhangran/Desktop/BP@UnitedStates/Code/D2D_Data2Dashboard/exp_result/exp02_d2insight_sys_kaggle_result.json\", \"r\") as f:\n",
        "# #     file_content = json.load(f)\n",
        "\n",
        "# # analysis_text = file_content[\"analysis\"]\n",
        "\n",
        "# # print(\"Loaded analysis JSON from:\", \"/Users/zhangran/Desktop/BP@UnitedStates/Code/D2D_Data2Dashboard/exp_result/exp02_d2insight_sys_kaggle_result.json\")   # quick sanity check\n",
        "\n",
        "# # # --- 3. Instantiate & run the dashboard agent ------------------------------\n",
        "# # agent = Insight2DashboardAgent()\n",
        "# # agent.run(csv_path, analysis_text, auto_exec=True)\n",
        "\n",
        "\n",
        "# json_path = pathlib.Path(\"/Users/zhangran/Desktop/BP@UnitedStates/Code/D2D_Data2Dashboard/exp_result/exp02_d2insight_sys_kaggle_result.json\")\n",
        "\n",
        "# with json_path.open(\"r\", encoding=\"utf-8\") as f:\n",
        "#     file_dict = json.load(f)\n",
        "\n",
        "# # Pass the *dict* itself; the helper now handles dicts natively\n",
        "# # analysis_text = file_dict\n",
        "# analysis_text = file_dict[\"analysis\"]  # Extract just the analysis section\n",
        "\n",
        "# agent = Insight2DashboardAgent()\n",
        "# agent.run(csv_path, analysis_text, auto_exec=True)\n"
      ]
    },
    {
      "cell_type": "code",
      "execution_count": 3,
      "metadata": {},
      "outputs": [],
      "source": [
        "# from agents.insight2dashboard_v1 import generate_analysis\n",
        "# import pathlib\n",
        "\n",
        "# # Load dataset\n",
        "# csv_path = \"/Users/zhangran/Desktop/BP@UnitedStates/Code/D2D_Data2Dashboard/dataset/Finance_survey_data.csv\"\n",
        "\n",
        "# # Just use the path to the JSON file directly\n",
        "# thoughts = generate_analysis(\n",
        "#     csv_path=csv_path,\n",
        "#     insight_json_path=\"/Users/zhangran/Desktop/BP@UnitedStates/Code/D2D_Data2Dashboard/exp_result/exp02_d2insight_sys_kaggle_result.json\",\n",
        "#     model=\"gpt-4o\",\n",
        "#     run_code=True\n",
        "# )\n",
        "# print(thoughts)\n"
      ]
    },
    {
      "cell_type": "code",
      "execution_count": 4,
      "metadata": {},
      "outputs": [
        {
          "name": "stdout",
          "output_type": "stream",
          "text": [
            "🧠  Thoughts saved → /Users/zhangran/Desktop/BP@UnitedStates/Code/D2D_Data2Dashboard/notebooks/analysis_thoughts.md\n",
            "📊  Analysis code → /Users/zhangran/Desktop/BP@UnitedStates/Code/D2D_Data2Dashboard/notebooks/analysis.py\n",
            "🚀  Executing generated analysis script…\n",
            "Figure(640x480)\n",
            "Figure(640x480)\n",
            "Figure(640x480)\n",
            "Figure(640x480)\n",
            "Figure(640x480)\n",
            "To decide on the most appropriate charts for visualizing the insights from the dataset, we need to consider the nature of the data and the insights we want to convey. Here are the steps and reasoning for each insight:\n",
            "\n",
            "1. **Demographic Overview (Age and Gender):**\n",
            "   - The dataset provides information about age and gender. A histogram can effectively show the distribution of ages, while a pie chart or bar chart can depict the gender distribution.\n",
            "   - **Final chart:** Histogram for age distribution and a pie chart for gender distribution.\n",
            "\n",
            "2. **Investment Preferences:**\n",
            "   - The dataset includes several investment avenues such as Mutual Funds, Equity Market, Debentures, etc. A bar chart can be used to compare the mean or total investment in each avenue.\n",
            "   - **Final chart:** Bar chart showing the average investment in each avenue.\n",
            "\n",
            "3. **Investment Monitoring Frequency:**\n",
            "   - The dataset contains information on how frequently individuals monitor their investments. A bar chart can illustrate the distribution of monitoring frequencies.\n",
            "   - **Final chart:** Bar chart for investment monitoring frequency.\n",
            "\n",
            "4. **Savings Objectives and Reasons:**\n",
            "   - The dataset provides categorical data on savings objectives and reasons for choosing specific investment types. A stacked bar chart can show the distribution of reasons for each savings objective.\n",
            "   - **Final chart:** Stacked bar chart for savings objectives and reasons.\n",
            "\n",
            "5. **Expected Returns:**\n",
            "   - The dataset includes expected return percentages. A pie chart can show the proportion of individuals expecting different return ranges.\n",
            "   - **Final chart:** Pie chart for expected returns.\n",
            "\n",
            "By using these charts, we can effectively communicate the key insights from the dataset, focusing on demographic characteristics, investment preferences, monitoring habits, savings objectives, and expected returns.\n"
          ]
        }
      ],
      "source": [
        "from agents.insight2dashboard_tot import generate_analysis\n",
        "import pathlib\n",
        "\n",
        "# Load dataset\n",
        "csv_path = \"/Users/zhangran/Desktop/BP@UnitedStates/Code/D2D_Data2Dashboard/dataset/Finance_survey_data.csv\"\n",
        "\n",
        "# Just use the path to the JSON file directly\n",
        "thoughts = generate_analysis(\n",
        "    csv_path=csv_path,\n",
        "    insight_json_path=\"/Users/zhangran/Desktop/BP@UnitedStates/Code/D2D_Data2Dashboard/exp_result/exp02_d2insight_sys_kaggle_result.json\",\n",
        "    model=\"gpt-4o\",\n",
        "    run_code=True\n",
        ")\n",
        "print(thoughts)"
      ]
    },
    {
      "cell_type": "code",
      "execution_count": null,
      "metadata": {},
      "outputs": [],
      "source": []
    }
  ],
  "metadata": {
    "colab": {
      "provenance": []
    },
    "kernelspec": {
      "display_name": "Python 3",
      "name": "python3"
    },
    "language_info": {
      "codemirror_mode": {
        "name": "ipython",
        "version": 3
      },
      "file_extension": ".py",
      "mimetype": "text/x-python",
      "name": "python",
      "nbconvert_exporter": "python",
      "pygments_lexer": "ipython3",
      "version": "3.9.6"
    }
  },
  "nbformat": 4,
  "nbformat_minor": 0
}
