{
  "cells": [
    {
      "cell_type": "code",
      "execution_count": 2,
      "metadata": {},
      "outputs": [],
      "source": [
        "import json\n",
        "import pandas as pd\n",
        "from deepeval.test_case import LLMTestCase\n",
        "from deepeval.test_case import LLMTestCaseParams\n",
        "from deepeval.metrics import GEval\n",
        "from deepeval import assert_test\n",
        "\n",
        "# Load model outputs — each element is a JSON string\n",
        "with open(\"/Users/zhangran/Desktop/BP@UnitedStates/Code/D2D_Data2Dashboard/exp_result/exp01_d2insight_sys_stimhartnow_result.json\", \"r\") as f:\n",
        "    output_sys = json.load(f)\n",
        "\n",
        "# Load model outputs — each element is a JSON string\n",
        "with open(\"/Users/zhangran/Desktop/BP@UnitedStates/Code/D2D_Data2Dashboard/exp_result/exp01_d2insight_gpt4o_domain_stimhartnow_result.json\", \"r\") as f:\n",
        "    output_gpt4o = json.load(f)\n",
        "\n",
        "insight_sys = (\n",
        "    output_sys[\"analysis\"][\"analysis\"][\"descriptive\"] + \" \" +\n",
        "    output_sys[\"analysis\"][\"analysis\"][\"predictive\"] + \" \" +\n",
        "    output_sys[\"analysis\"][\"analysis\"][\"domain_related\"]\n",
        ")\n",
        "\n",
        "insight_gpt4o = (\n",
        "    output_gpt4o[\"insights\"][\"customer_retention\"][\"insight\"] + \" \" +\n",
        "    output_gpt4o[\"insights\"][\"acquisition_channels\"][\"insight\"] + \" \" +\n",
        "    output_gpt4o[\"insights\"][\"customer_demographics\"][\"insight\"] + \" \" +\n",
        "    output_gpt4o[\"insights\"][\"financial_analysis\"][\"insight\"] + \" \" +\n",
        "    output_gpt4o[\"insights\"][\"contract_analysis\"][\"insight\"] + \" \" +\n",
        "    output_gpt4o[\"insights\"][\"premium_customers\"][\"insight\"]\n",
        ")\n",
        "\n",
        "# 3. Create a test case without reference output\n",
        "test_case_sys = LLMTestCase(\n",
        "    input=\"Customer Relationship Management dataset with features like acquisition channel, retention, churn, periods active, etc.\",\n",
        "    actual_output=insight_sys,\n",
        ")\n",
        "\n",
        "test_case_gpt4o = LLMTestCase(\n",
        "    input=\"Customer Relationship Management dataset with features like acquisition channel, retention, churn, periods active, etc.\",\n",
        "    actual_output=insight_gpt4o,\n",
        ")"
      ]
    },
    {
      "cell_type": "code",
      "execution_count": 20,
      "metadata": {},
      "outputs": [],
      "source": [
        "# 4. Define GEval metrics (self-evaluation — no expected_output)\n",
        "insightful = GEval(\n",
        "    name=\"Insightful\",\n",
        "    criteria=\"Does the output offer a deep or non-obvious understanding? Does it connect patterns or trends that aren't immediately apparent?\",\n",
        "    evaluation_params=[LLMTestCaseParams.INPUT, LLMTestCaseParams.ACTUAL_OUTPUT],\n",
        ")\n",
        "\n",
        "novelty = GEval(\n",
        "    name=\"Novelty\",\n",
        "    criteria=\"Does the output go beyond generic interpretation? Would it surprise or teach something new to a domain expert?\",\n",
        "    evaluation_params=[LLMTestCaseParams.INPUT, LLMTestCaseParams.ACTUAL_OUTPUT],\n",
        ")\n",
        "\n",
        "domain_relevance = GEval(\n",
        "    name=\"Depth\",\n",
        "    criteria=\"Does the analysis demonstrate deep domain expertise in the specific domain?\",\n",
        "    evaluation_params=[LLMTestCaseParams.INPUT, LLMTestCaseParams.ACTUAL_OUTPUT],\n",
        ")"
      ]
    },
    {
      "cell_type": "code",
      "execution_count": null,
      "metadata": {},
      "outputs": [],
      "source": [
        "# # 5. Run evaluation (assertion-based print)\n",
        "# print(\"\\n=== Insight Evaluation Report ===\")\n",
        "# assert_test(test_case_sys, [insightful, novelty, domain_relevance])"
      ]
    },
    {
      "cell_type": "code",
      "execution_count": 21,
      "metadata": {},
      "outputs": [
        {
          "data": {
            "text/html": [
              "<pre style=\"white-space:pre;overflow-x:auto;line-height:normal;font-family:Menlo,'DejaVu Sans Mono',consolas,'Courier New',monospace\">✨ You're running DeepEval's latest <span style=\"color: #6a00ff; text-decoration-color: #6a00ff\">Insightful </span><span style=\"color: #6a00ff; text-decoration-color: #6a00ff; font-weight: bold\">(</span><span style=\"color: #6a00ff; text-decoration-color: #6a00ff\">GEval</span><span style=\"color: #6a00ff; text-decoration-color: #6a00ff; font-weight: bold\">)</span><span style=\"color: #6a00ff; text-decoration-color: #6a00ff\"> Metric</span>! <span style=\"color: #374151; text-decoration-color: #374151; font-weight: bold\">(</span><span style=\"color: #374151; text-decoration-color: #374151\">using gpt-4o, </span><span style=\"color: #374151; text-decoration-color: #374151\">strict</span><span style=\"color: #374151; text-decoration-color: #374151\">=</span><span style=\"color: #374151; text-decoration-color: #374151; font-style: italic\">False</span><span style=\"color: #374151; text-decoration-color: #374151\">, </span><span style=\"color: #374151; text-decoration-color: #374151\">async_mode</span><span style=\"color: #374151; text-decoration-color: #374151\">=</span><span style=\"color: #374151; text-decoration-color: #374151; font-style: italic\">True</span><span style=\"color: #374151; text-decoration-color: #374151; font-weight: bold\">)</span><span style=\"color: #374151; text-decoration-color: #374151\">...</span>\n",
              "</pre>\n"
            ],
            "text/plain": [
              "✨ You're running DeepEval's latest \u001b[38;2;106;0;255mInsightful \u001b[0m\u001b[1;38;2;106;0;255m(\u001b[0m\u001b[38;2;106;0;255mGEval\u001b[0m\u001b[1;38;2;106;0;255m)\u001b[0m\u001b[38;2;106;0;255m Metric\u001b[0m! \u001b[1;38;2;55;65;81m(\u001b[0m\u001b[38;2;55;65;81musing gpt-4o, \u001b[0m\u001b[38;2;55;65;81mstrict\u001b[0m\u001b[38;2;55;65;81m=\u001b[0m\u001b[3;38;2;55;65;81mFalse\u001b[0m\u001b[38;2;55;65;81m, \u001b[0m\u001b[38;2;55;65;81masync_mode\u001b[0m\u001b[38;2;55;65;81m=\u001b[0m\u001b[3;38;2;55;65;81mTrue\u001b[0m\u001b[1;38;2;55;65;81m)\u001b[0m\u001b[38;2;55;65;81m...\u001b[0m\n"
            ]
          },
          "metadata": {},
          "output_type": "display_data"
        },
        {
          "data": {
            "text/html": [
              "<pre style=\"white-space:pre;overflow-x:auto;line-height:normal;font-family:Menlo,'DejaVu Sans Mono',consolas,'Courier New',monospace\">✨ You're running DeepEval's latest <span style=\"color: #6a00ff; text-decoration-color: #6a00ff\">Novelty </span><span style=\"color: #6a00ff; text-decoration-color: #6a00ff; font-weight: bold\">(</span><span style=\"color: #6a00ff; text-decoration-color: #6a00ff\">GEval</span><span style=\"color: #6a00ff; text-decoration-color: #6a00ff; font-weight: bold\">)</span><span style=\"color: #6a00ff; text-decoration-color: #6a00ff\"> Metric</span>! <span style=\"color: #374151; text-decoration-color: #374151; font-weight: bold\">(</span><span style=\"color: #374151; text-decoration-color: #374151\">using gpt-4o, </span><span style=\"color: #374151; text-decoration-color: #374151\">strict</span><span style=\"color: #374151; text-decoration-color: #374151\">=</span><span style=\"color: #374151; text-decoration-color: #374151; font-style: italic\">False</span><span style=\"color: #374151; text-decoration-color: #374151\">, </span><span style=\"color: #374151; text-decoration-color: #374151\">async_mode</span><span style=\"color: #374151; text-decoration-color: #374151\">=</span><span style=\"color: #374151; text-decoration-color: #374151; font-style: italic\">True</span><span style=\"color: #374151; text-decoration-color: #374151; font-weight: bold\">)</span><span style=\"color: #374151; text-decoration-color: #374151\">...</span>\n",
              "</pre>\n"
            ],
            "text/plain": [
              "✨ You're running DeepEval's latest \u001b[38;2;106;0;255mNovelty \u001b[0m\u001b[1;38;2;106;0;255m(\u001b[0m\u001b[38;2;106;0;255mGEval\u001b[0m\u001b[1;38;2;106;0;255m)\u001b[0m\u001b[38;2;106;0;255m Metric\u001b[0m! \u001b[1;38;2;55;65;81m(\u001b[0m\u001b[38;2;55;65;81musing gpt-4o, \u001b[0m\u001b[38;2;55;65;81mstrict\u001b[0m\u001b[38;2;55;65;81m=\u001b[0m\u001b[3;38;2;55;65;81mFalse\u001b[0m\u001b[38;2;55;65;81m, \u001b[0m\u001b[38;2;55;65;81masync_mode\u001b[0m\u001b[38;2;55;65;81m=\u001b[0m\u001b[3;38;2;55;65;81mTrue\u001b[0m\u001b[1;38;2;55;65;81m)\u001b[0m\u001b[38;2;55;65;81m...\u001b[0m\n"
            ]
          },
          "metadata": {},
          "output_type": "display_data"
        },
        {
          "data": {
            "text/html": [
              "<pre style=\"white-space:pre;overflow-x:auto;line-height:normal;font-family:Menlo,'DejaVu Sans Mono',consolas,'Courier New',monospace\">✨ You're running DeepEval's latest <span style=\"color: #6a00ff; text-decoration-color: #6a00ff\">Depth </span><span style=\"color: #6a00ff; text-decoration-color: #6a00ff; font-weight: bold\">(</span><span style=\"color: #6a00ff; text-decoration-color: #6a00ff\">GEval</span><span style=\"color: #6a00ff; text-decoration-color: #6a00ff; font-weight: bold\">)</span><span style=\"color: #6a00ff; text-decoration-color: #6a00ff\"> Metric</span>! <span style=\"color: #374151; text-decoration-color: #374151; font-weight: bold\">(</span><span style=\"color: #374151; text-decoration-color: #374151\">using gpt-4o, </span><span style=\"color: #374151; text-decoration-color: #374151\">strict</span><span style=\"color: #374151; text-decoration-color: #374151\">=</span><span style=\"color: #374151; text-decoration-color: #374151; font-style: italic\">False</span><span style=\"color: #374151; text-decoration-color: #374151\">, </span><span style=\"color: #374151; text-decoration-color: #374151\">async_mode</span><span style=\"color: #374151; text-decoration-color: #374151\">=</span><span style=\"color: #374151; text-decoration-color: #374151; font-style: italic\">True</span><span style=\"color: #374151; text-decoration-color: #374151; font-weight: bold\">)</span><span style=\"color: #374151; text-decoration-color: #374151\">...</span>\n",
              "</pre>\n"
            ],
            "text/plain": [
              "✨ You're running DeepEval's latest \u001b[38;2;106;0;255mDepth \u001b[0m\u001b[1;38;2;106;0;255m(\u001b[0m\u001b[38;2;106;0;255mGEval\u001b[0m\u001b[1;38;2;106;0;255m)\u001b[0m\u001b[38;2;106;0;255m Metric\u001b[0m! \u001b[1;38;2;55;65;81m(\u001b[0m\u001b[38;2;55;65;81musing gpt-4o, \u001b[0m\u001b[38;2;55;65;81mstrict\u001b[0m\u001b[38;2;55;65;81m=\u001b[0m\u001b[3;38;2;55;65;81mFalse\u001b[0m\u001b[38;2;55;65;81m, \u001b[0m\u001b[38;2;55;65;81masync_mode\u001b[0m\u001b[38;2;55;65;81m=\u001b[0m\u001b[3;38;2;55;65;81mTrue\u001b[0m\u001b[1;38;2;55;65;81m)\u001b[0m\u001b[38;2;55;65;81m...\u001b[0m\n"
            ]
          },
          "metadata": {},
          "output_type": "display_data"
        },
        {
          "name": "stderr",
          "output_type": "stream",
          "text": [
            "Evaluating 1 test case(s) in parallel: |██████████|100% (1/1) [Time Taken: 00:03,  3.55s/test case]"
          ]
        },
        {
          "name": "stdout",
          "output_type": "stream",
          "text": [
            "\n",
            "======================================================================\n",
            "\n",
            "Metrics Summary\n",
            "\n",
            "  - ✅ Insightful (GEval) (score: 0.8916081046866233, threshold: 0.5, strict: False, evaluation model: gpt-4o, reason: The output demonstrates a deep understanding by identifying non-obvious insights such as the impact of acquisition channels and premium status on retention and CLV. It synthesizes information to suggest predictive analysis and strategies for optimizing contracts and customer engagement, showing connections not immediately visible in the input., error: None)\n",
            "  - ✅ Novelty (GEval) (score: 0.5990577392908683, threshold: 0.5, strict: False, evaluation model: gpt-4o, reason: The output provides insights into customer engagement and financial contributions, and suggests predictive analysis for CLV and retention, which are not immediately obvious from the input. However, it lacks novel concepts or analysis that challenge conventional thinking, and the insights may not be unexpected for experts in CRM., error: None)\n",
            "  - ✅ Depth (GEval) (score: 0.9423169658535271, threshold: 0.5, strict: False, evaluation model: gpt-4o, reason: The output accurately uses and explains domain-specific terminology such as 'Expected CLV', 'Acquisition Channel', and 'customer retention'. It provides insights into customer engagement and financial contributions, reflecting a deep understanding of CRM challenges. The output also elaborates on advanced concepts like predictive analysis and personalized marketing strategies, which were implied in the input., error: None)\n",
            "\n",
            "For test case:\n",
            "\n",
            "  - input: Customer Relationship Management dataset with features like acquisition channel, retention, churn, periods active, etc.\n",
            "  - actual output: The dataset provides a comprehensive view of customer interactions and lifecycle within a CRM context, capturing 3,117 unique customer records across 19 attributes. Key metrics include 'Periods Active', 'Revenue, Total', and 'Expected CLV', which offer insights into customer engagement and financial contributions. The data reveals that most customers are relatively new, with an average of 1.97 periods active, and a significant portion of revenue is derived from 'Maker Revenue'. The dataset also highlights the diversity in acquisition channels and customer demographics, such as region and company size, which can influence customer behavior and value. Predictive analysis could focus on identifying factors that contribute to higher 'Expected CLV' and customer retention. By examining correlations between 'Acquisition Channel', 'Premium (Y/N)', and 'Periods Active', we can develop models to predict customer churn and lifetime value. For instance, customers acquired through internal channels and those with premium status may exhibit higher retention rates and CLV. Additionally, analyzing the impact of 'No. Maker Contracts' and 'No. Advanced Contracts' on revenue streams could uncover strategies to optimize contract offerings and enhance customer profitability. In the CRM domain, understanding customer lifecycle stages and retention strategies is crucial. This dataset provides a foundation for exploring how different acquisition channels and customer demographics affect retention and sales growth. The high variance in 'Expected CLV' suggests opportunities for targeted customer service improvements and personalized marketing strategies. By leveraging CRM technologies to analyze 'Customer ID' and 'Period Acquired', companies can tailor their engagement approaches, focusing on high-value customers and optimizing resource allocation to maximize sales growth and customer satisfaction.\n",
            "  - expected output: None\n",
            "  - context: None\n",
            "  - retrieval context: None\n",
            "\n",
            "======================================================================\n",
            "\n",
            "Overall Metric Pass Rates\n",
            "\n",
            "Insightful (GEval): 100.00% pass rate\n",
            "Novelty (GEval): 100.00% pass rate\n",
            "Depth (GEval): 100.00% pass rate\n",
            "\n",
            "======================================================================\n",
            "\n"
          ]
        },
        {
          "name": "stderr",
          "output_type": "stream",
          "text": [
            "\n"
          ]
        },
        {
          "data": {
            "text/html": [
              "<pre style=\"white-space:pre;overflow-x:auto;line-height:normal;font-family:Menlo,'DejaVu Sans Mono',consolas,'Courier New',monospace\">\n",
              "<span style=\"color: #05f58d; text-decoration-color: #05f58d\">✓</span> Tests finished 🎉! Run <span style=\"color: #008000; text-decoration-color: #008000; font-weight: bold\">'deepeval login'</span> to save and analyze evaluation results on Confident AI.\n",
              " \n",
              "✨👀 Looking for a place for your LLM test data to live 🏡❤️ ? Use <span style=\"color: #6a00ff; text-decoration-color: #6a00ff\">Confident AI</span> to get &amp; share testing reports, \n",
              "experiment with models/prompts, and catch regressions for your LLM system. Just run <span style=\"color: #008080; text-decoration-color: #008080\">'deepeval login'</span> in the CLI. \n",
              "\n",
              "</pre>\n"
            ],
            "text/plain": [
              "\n",
              "\u001b[38;2;5;245;141m✓\u001b[0m Tests finished 🎉! Run \u001b[1;32m'deepeval login'\u001b[0m to save and analyze evaluation results on Confident AI.\n",
              " \n",
              "✨👀 Looking for a place for your LLM test data to live 🏡❤️ ? Use \u001b[38;2;106;0;255mConfident AI\u001b[0m to get & share testing reports, \n",
              "experiment with models/prompts, and catch regressions for your LLM system. Just run \u001b[36m'deepeval login'\u001b[0m in the CLI. \n",
              "\n"
            ]
          },
          "metadata": {},
          "output_type": "display_data"
        },
        {
          "name": "stdout",
          "output_type": "stream",
          "text": [
            "\n",
            "==== Label: test_results ====\n",
            "Input:  Customer Relationship Management dataset with features like acquisition channel, retention, churn, periods active, etc.\n",
            "Output: The dataset provides a comprehensive view of customer interactions and lifecycle within a CRM context, capturing 3,117 unique customer records across 19 attributes. Key metrics include 'Periods Active', 'Revenue, Total', and 'Expected CLV', which offer insights into customer engagement and financial...\n",
            "Insightful (GEval)       : 0.89  |  The output demonstrates a deep understanding by identifying non-obvious insights such as the impact of acquisition channels and premium status on retention and CLV. It synthesizes information to suggest predictive analysis and strategies for optimizing contracts and customer engagement, showing connections not immediately visible in the input.\n",
            "Novelty (GEval)          : 0.60  |  The output provides insights into customer engagement and financial contributions, and suggests predictive analysis for CLV and retention, which are not immediately obvious from the input. However, it lacks novel concepts or analysis that challenge conventional thinking, and the insights may not be unexpected for experts in CRM.\n",
            "Depth (GEval)            : 0.94  |  The output accurately uses and explains domain-specific terminology such as 'Expected CLV', 'Acquisition Channel', and 'customer retention'. It provides insights into customer engagement and financial contributions, reflecting a deep understanding of CRM challenges. The output also elaborates on advanced concepts like predictive analysis and personalized marketing strategies, which were implied in the input.\n",
            "\n",
            "==== Label: confident_link ====\n",
            "⚠️  No results for this label.\n",
            "\n"
          ]
        }
      ],
      "source": [
        "from deepeval import evaluate\n",
        "\n",
        "results_sys = evaluate(\n",
        "    test_cases=[test_case_sys],\n",
        "    metrics=[insightful, novelty, domain_relevance],\n",
        ")\n",
        "\n",
        "# ── pretty‑print ───────────────────────────────\n",
        "for label, test_case_list in results_sys:\n",
        "    print(f\"\\n==== Label: {label} ====\")\n",
        "\n",
        "    if test_case_list is None:\n",
        "        print(\"⚠️  No results for this label.\\n\")\n",
        "        continue\n",
        "\n",
        "    for test_case in test_case_list:\n",
        "        print(f\"Input:  {test_case.input}\")\n",
        "        print(f\"Output: {test_case.actual_output[:300]}...\")\n",
        "\n",
        "        for metric in test_case.metrics_data:\n",
        "            print(f\"{metric.name:<25}: {metric.score:.2f}  |  {metric.reason}\")\n",
        "\n",
        "\n",
        "\n"
      ]
    },
    {
      "cell_type": "code",
      "execution_count": 22,
      "metadata": {},
      "outputs": [
        {
          "data": {
            "text/html": [
              "<pre style=\"white-space:pre;overflow-x:auto;line-height:normal;font-family:Menlo,'DejaVu Sans Mono',consolas,'Courier New',monospace\">✨ You're running DeepEval's latest <span style=\"color: #6a00ff; text-decoration-color: #6a00ff\">Insightful </span><span style=\"color: #6a00ff; text-decoration-color: #6a00ff; font-weight: bold\">(</span><span style=\"color: #6a00ff; text-decoration-color: #6a00ff\">GEval</span><span style=\"color: #6a00ff; text-decoration-color: #6a00ff; font-weight: bold\">)</span><span style=\"color: #6a00ff; text-decoration-color: #6a00ff\"> Metric</span>! <span style=\"color: #374151; text-decoration-color: #374151; font-weight: bold\">(</span><span style=\"color: #374151; text-decoration-color: #374151\">using gpt-4o, </span><span style=\"color: #374151; text-decoration-color: #374151\">strict</span><span style=\"color: #374151; text-decoration-color: #374151\">=</span><span style=\"color: #374151; text-decoration-color: #374151; font-style: italic\">False</span><span style=\"color: #374151; text-decoration-color: #374151\">, </span><span style=\"color: #374151; text-decoration-color: #374151\">async_mode</span><span style=\"color: #374151; text-decoration-color: #374151\">=</span><span style=\"color: #374151; text-decoration-color: #374151; font-style: italic\">True</span><span style=\"color: #374151; text-decoration-color: #374151; font-weight: bold\">)</span><span style=\"color: #374151; text-decoration-color: #374151\">...</span>\n",
              "</pre>\n"
            ],
            "text/plain": [
              "✨ You're running DeepEval's latest \u001b[38;2;106;0;255mInsightful \u001b[0m\u001b[1;38;2;106;0;255m(\u001b[0m\u001b[38;2;106;0;255mGEval\u001b[0m\u001b[1;38;2;106;0;255m)\u001b[0m\u001b[38;2;106;0;255m Metric\u001b[0m! \u001b[1;38;2;55;65;81m(\u001b[0m\u001b[38;2;55;65;81musing gpt-4o, \u001b[0m\u001b[38;2;55;65;81mstrict\u001b[0m\u001b[38;2;55;65;81m=\u001b[0m\u001b[3;38;2;55;65;81mFalse\u001b[0m\u001b[38;2;55;65;81m, \u001b[0m\u001b[38;2;55;65;81masync_mode\u001b[0m\u001b[38;2;55;65;81m=\u001b[0m\u001b[3;38;2;55;65;81mTrue\u001b[0m\u001b[1;38;2;55;65;81m)\u001b[0m\u001b[38;2;55;65;81m...\u001b[0m\n"
            ]
          },
          "metadata": {},
          "output_type": "display_data"
        },
        {
          "data": {
            "text/html": [
              "<pre style=\"white-space:pre;overflow-x:auto;line-height:normal;font-family:Menlo,'DejaVu Sans Mono',consolas,'Courier New',monospace\">✨ You're running DeepEval's latest <span style=\"color: #6a00ff; text-decoration-color: #6a00ff\">Novelty </span><span style=\"color: #6a00ff; text-decoration-color: #6a00ff; font-weight: bold\">(</span><span style=\"color: #6a00ff; text-decoration-color: #6a00ff\">GEval</span><span style=\"color: #6a00ff; text-decoration-color: #6a00ff; font-weight: bold\">)</span><span style=\"color: #6a00ff; text-decoration-color: #6a00ff\"> Metric</span>! <span style=\"color: #374151; text-decoration-color: #374151; font-weight: bold\">(</span><span style=\"color: #374151; text-decoration-color: #374151\">using gpt-4o, </span><span style=\"color: #374151; text-decoration-color: #374151\">strict</span><span style=\"color: #374151; text-decoration-color: #374151\">=</span><span style=\"color: #374151; text-decoration-color: #374151; font-style: italic\">False</span><span style=\"color: #374151; text-decoration-color: #374151\">, </span><span style=\"color: #374151; text-decoration-color: #374151\">async_mode</span><span style=\"color: #374151; text-decoration-color: #374151\">=</span><span style=\"color: #374151; text-decoration-color: #374151; font-style: italic\">True</span><span style=\"color: #374151; text-decoration-color: #374151; font-weight: bold\">)</span><span style=\"color: #374151; text-decoration-color: #374151\">...</span>\n",
              "</pre>\n"
            ],
            "text/plain": [
              "✨ You're running DeepEval's latest \u001b[38;2;106;0;255mNovelty \u001b[0m\u001b[1;38;2;106;0;255m(\u001b[0m\u001b[38;2;106;0;255mGEval\u001b[0m\u001b[1;38;2;106;0;255m)\u001b[0m\u001b[38;2;106;0;255m Metric\u001b[0m! \u001b[1;38;2;55;65;81m(\u001b[0m\u001b[38;2;55;65;81musing gpt-4o, \u001b[0m\u001b[38;2;55;65;81mstrict\u001b[0m\u001b[38;2;55;65;81m=\u001b[0m\u001b[3;38;2;55;65;81mFalse\u001b[0m\u001b[38;2;55;65;81m, \u001b[0m\u001b[38;2;55;65;81masync_mode\u001b[0m\u001b[38;2;55;65;81m=\u001b[0m\u001b[3;38;2;55;65;81mTrue\u001b[0m\u001b[1;38;2;55;65;81m)\u001b[0m\u001b[38;2;55;65;81m...\u001b[0m\n"
            ]
          },
          "metadata": {},
          "output_type": "display_data"
        },
        {
          "data": {
            "text/html": [
              "<pre style=\"white-space:pre;overflow-x:auto;line-height:normal;font-family:Menlo,'DejaVu Sans Mono',consolas,'Courier New',monospace\">✨ You're running DeepEval's latest <span style=\"color: #6a00ff; text-decoration-color: #6a00ff\">Depth </span><span style=\"color: #6a00ff; text-decoration-color: #6a00ff; font-weight: bold\">(</span><span style=\"color: #6a00ff; text-decoration-color: #6a00ff\">GEval</span><span style=\"color: #6a00ff; text-decoration-color: #6a00ff; font-weight: bold\">)</span><span style=\"color: #6a00ff; text-decoration-color: #6a00ff\"> Metric</span>! <span style=\"color: #374151; text-decoration-color: #374151; font-weight: bold\">(</span><span style=\"color: #374151; text-decoration-color: #374151\">using gpt-4o, </span><span style=\"color: #374151; text-decoration-color: #374151\">strict</span><span style=\"color: #374151; text-decoration-color: #374151\">=</span><span style=\"color: #374151; text-decoration-color: #374151; font-style: italic\">False</span><span style=\"color: #374151; text-decoration-color: #374151\">, </span><span style=\"color: #374151; text-decoration-color: #374151\">async_mode</span><span style=\"color: #374151; text-decoration-color: #374151\">=</span><span style=\"color: #374151; text-decoration-color: #374151; font-style: italic\">True</span><span style=\"color: #374151; text-decoration-color: #374151; font-weight: bold\">)</span><span style=\"color: #374151; text-decoration-color: #374151\">...</span>\n",
              "</pre>\n"
            ],
            "text/plain": [
              "✨ You're running DeepEval's latest \u001b[38;2;106;0;255mDepth \u001b[0m\u001b[1;38;2;106;0;255m(\u001b[0m\u001b[38;2;106;0;255mGEval\u001b[0m\u001b[1;38;2;106;0;255m)\u001b[0m\u001b[38;2;106;0;255m Metric\u001b[0m! \u001b[1;38;2;55;65;81m(\u001b[0m\u001b[38;2;55;65;81musing gpt-4o, \u001b[0m\u001b[38;2;55;65;81mstrict\u001b[0m\u001b[38;2;55;65;81m=\u001b[0m\u001b[3;38;2;55;65;81mFalse\u001b[0m\u001b[38;2;55;65;81m, \u001b[0m\u001b[38;2;55;65;81masync_mode\u001b[0m\u001b[38;2;55;65;81m=\u001b[0m\u001b[3;38;2;55;65;81mTrue\u001b[0m\u001b[1;38;2;55;65;81m)\u001b[0m\u001b[38;2;55;65;81m...\u001b[0m\n"
            ]
          },
          "metadata": {},
          "output_type": "display_data"
        },
        {
          "name": "stderr",
          "output_type": "stream",
          "text": [
            "Evaluating 1 test case(s) in parallel: |██████████|100% (1/1) [Time Taken: 00:03,  3.14s/test case]"
          ]
        },
        {
          "name": "stdout",
          "output_type": "stream",
          "text": [
            "\n",
            "======================================================================\n",
            "\n",
            "Metrics Summary\n",
            "\n",
            "  - ✅ Insightful (GEval) (score: 0.8651354864666055, threshold: 0.5, strict: False, evaluation model: gpt-4o, reason: The output identifies unique insights such as the reliance on external channels for acquisition and the potential focus on emerging businesses, which are not explicitly mentioned in the input. It connects patterns like the high CLV versus average revenue, suggesting future revenue potential, and addresses complexities like the low number of premium customers as a growth area., error: None)\n",
            "  - ❌ Novelty (GEval) (score: 0.39037252806207723, threshold: 0.5, strict: False, evaluation model: gpt-4o, reason: The output provides a standard analysis of the dataset, such as customer retention issues and acquisition channels, which are expected insights. It lacks novel perspectives or unexpected insights for domain experts, such as innovative strategies or unique patterns in customer behavior., error: None)\n",
            "  - ✅ Depth (GEval) (score: 0.8031840415870386, threshold: 0.5, strict: False, evaluation model: gpt-4o, reason: The output correctly identifies issues with customer retention and acquisition strategies, reflecting a good understanding of CRM challenges. It highlights the potential for growth in premium customers and aligns with best practices by focusing on CLV. However, it could delve deeper into specific strategies for improvement., error: None)\n",
            "\n",
            "For test case:\n",
            "\n",
            "  - input: Customer Relationship Management dataset with features like acquisition channel, retention, churn, periods active, etc.\n",
            "  - actual output: The majority of customers have terminated their contracts, indicating potential issues with customer retention strategies. Most customers are acquired through external channels, suggesting a reliance on external marketing or partnerships for customer acquisition. The majority of customers are small companies, and a significant portion are relatively new (0-5 years old), indicating a potential focus on emerging businesses. The average expected customer lifetime value (CLV) is significantly higher than the average revenue, suggesting high future revenue potential from existing customers. Customers tend to have a balanced mix of maker and advanced contracts, with a slight preference for maker contracts. There is a very low number of premium customers, indicating a potential area for growth by converting more customers to premium status.\n",
            "  - expected output: None\n",
            "  - context: None\n",
            "  - retrieval context: None\n",
            "\n",
            "======================================================================\n",
            "\n",
            "Overall Metric Pass Rates\n",
            "\n",
            "Insightful (GEval): 100.00% pass rate\n",
            "Novelty (GEval): 0.00% pass rate\n",
            "Depth (GEval): 100.00% pass rate\n",
            "\n",
            "======================================================================\n",
            "\n"
          ]
        },
        {
          "name": "stderr",
          "output_type": "stream",
          "text": [
            "\n"
          ]
        },
        {
          "data": {
            "text/html": [
              "<pre style=\"white-space:pre;overflow-x:auto;line-height:normal;font-family:Menlo,'DejaVu Sans Mono',consolas,'Courier New',monospace\">\n",
              "<span style=\"color: #05f58d; text-decoration-color: #05f58d\">✓</span> Tests finished 🎉! Run <span style=\"color: #008000; text-decoration-color: #008000; font-weight: bold\">'deepeval login'</span> to save and analyze evaluation results on Confident AI.\n",
              " \n",
              "✨👀 Looking for a place for your LLM test data to live 🏡❤️ ? Use <span style=\"color: #6a00ff; text-decoration-color: #6a00ff\">Confident AI</span> to get &amp; share testing reports, \n",
              "experiment with models/prompts, and catch regressions for your LLM system. Just run <span style=\"color: #008080; text-decoration-color: #008080\">'deepeval login'</span> in the CLI. \n",
              "\n",
              "</pre>\n"
            ],
            "text/plain": [
              "\n",
              "\u001b[38;2;5;245;141m✓\u001b[0m Tests finished 🎉! Run \u001b[1;32m'deepeval login'\u001b[0m to save and analyze evaluation results on Confident AI.\n",
              " \n",
              "✨👀 Looking for a place for your LLM test data to live 🏡❤️ ? Use \u001b[38;2;106;0;255mConfident AI\u001b[0m to get & share testing reports, \n",
              "experiment with models/prompts, and catch regressions for your LLM system. Just run \u001b[36m'deepeval login'\u001b[0m in the CLI. \n",
              "\n"
            ]
          },
          "metadata": {},
          "output_type": "display_data"
        },
        {
          "name": "stdout",
          "output_type": "stream",
          "text": [
            "\n",
            "==== Label: test_results ====\n",
            "Input:  Customer Relationship Management dataset with features like acquisition channel, retention, churn, periods active, etc.\n",
            "Output: The majority of customers have terminated their contracts, indicating potential issues with customer retention strategies. Most customers are acquired through external channels, suggesting a reliance on external marketing or partnerships for customer acquisition. The majority of customers are small ...\n",
            "Insightful (GEval)       : 0.87  |  The output identifies unique insights such as the reliance on external channels for acquisition and the potential focus on emerging businesses, which are not explicitly mentioned in the input. It connects patterns like the high CLV versus average revenue, suggesting future revenue potential, and addresses complexities like the low number of premium customers as a growth area.\n",
            "Novelty (GEval)          : 0.39  |  The output provides a standard analysis of the dataset, such as customer retention issues and acquisition channels, which are expected insights. It lacks novel perspectives or unexpected insights for domain experts, such as innovative strategies or unique patterns in customer behavior.\n",
            "Depth (GEval)            : 0.80  |  The output correctly identifies issues with customer retention and acquisition strategies, reflecting a good understanding of CRM challenges. It highlights the potential for growth in premium customers and aligns with best practices by focusing on CLV. However, it could delve deeper into specific strategies for improvement.\n",
            "\n",
            "==== Label: confident_link ====\n",
            "⚠️  No results for this label.\n",
            "\n"
          ]
        }
      ],
      "source": [
        "results_gpt4o = evaluate(\n",
        "    test_cases=[test_case_gpt4o],\n",
        "    metrics=[insightful, novelty, domain_relevance],\n",
        ")\n",
        "\n",
        "# ── pretty‑print ───────────────────────────────\n",
        "for label, test_case_list in results_gpt4o:\n",
        "    print(f\"\\n==== Label: {label} ====\")\n",
        "\n",
        "    if test_case_list is None:\n",
        "        print(\"⚠️  No results for this label.\\n\")\n",
        "        continue\n",
        "\n",
        "    for test_case in test_case_list:\n",
        "        print(f\"Input:  {test_case.input}\")\n",
        "        print(f\"Output: {test_case.actual_output[:300]}...\")\n",
        "\n",
        "        for metric in test_case.metrics_data:\n",
        "            print(f\"{metric.name:<25}: {metric.score:.2f}  |  {metric.reason}\")"
      ]
    },
    {
      "cell_type": "code",
      "execution_count": null,
      "metadata": {},
      "outputs": [],
      "source": []
    }
  ],
  "metadata": {
    "colab": {
      "provenance": []
    },
    "kernelspec": {
      "display_name": "Python 3",
      "name": "python3"
    },
    "language_info": {
      "codemirror_mode": {
        "name": "ipython",
        "version": 3
      },
      "file_extension": ".py",
      "mimetype": "text/x-python",
      "name": "python",
      "nbconvert_exporter": "python",
      "pygments_lexer": "ipython3",
      "version": "3.9.6"
    }
  },
  "nbformat": 4,
  "nbformat_minor": 0
}
