{
  "cells": [
    {
      "cell_type": "code",
      "execution_count": 2,
      "metadata": {
        "id": "Em6E3UELQtln"
      },
      "outputs": [],
      "source": [
        "import pandas as pd"
      ]
    },
    {
      "cell_type": "code",
      "execution_count": null,
      "metadata": {},
      "outputs": [],
      "source": [
        "# ---------- Data Loading ----------\n",
        "\n",
        "def load_dataset_from_gdrive(file_id: str) -> pd.DataFrame:\n",
        "    \"\"\"Download a public CSV file from Google Drive **without** requiring `gdown`.\n",
        "\n",
        "    Parameters\n",
        "    ----------\n",
        "    file_id : str\n",
        "        The _alphanumeric_ part that appears after `id=` in a Google‑Drive share URL.\n",
        "\n",
        "    Returns\n",
        "    -------\n",
        "    pd.DataFrame\n",
        "        The CSV loaded into a pandas DataFrame.\n",
        "    \"\"\"\n",
        "    url = f\"https://drive.google.com/uc?export=download&id={file_id}\"\n",
        "    return pd.read_csv(url)"
      ]
    },
    {
      "cell_type": "code",
      "execution_count": 4,
      "metadata": {},
      "outputs": [],
      "source": [
        "# ---------- Dataset Profiling ----------\n",
        "\n",
        "def profile_dataset(df: pd.DataFrame, sample_size: int = 1):\n",
        "    \"\"\"Light‑weight profiler that infers column types and basic stats.\n",
        "\n",
        "    Parameters\n",
        "    ----------\n",
        "    df : pd.DataFrame\n",
        "        The dataframe to profile.\n",
        "    sample_size : int, optional\n",
        "        *Reserved for future use* – how many example values to keep per column.\n",
        "\n",
        "    Returns\n",
        "    -------\n",
        "    dict\n",
        "        A JSON‑serialisable summary containing column names, inferred logical\n",
        "        types, and simple quality metrics (missing‑rate, #unique, example value).\n",
        "    \"\"\"\n",
        "    type_map = {}\n",
        "    stats = {}\n",
        "\n",
        "    for col in df.columns:\n",
        "        dtype = df[col].dtype\n",
        "        n_missing = df[col].isna().sum()\n",
        "        total = len(df)\n",
        "        n_unique = df[col].nunique()\n",
        "        example = (\n",
        "            df[col].dropna().iloc[0] if not df[col].dropna().empty else None\n",
        "        )\n",
        "\n",
        "        # ---- heuristic type inference -------------------------------------\n",
        "        if pd.api.types.is_numeric_dtype(dtype):\n",
        "            inferred = \"numeric\"\n",
        "        elif pd.api.types.is_datetime64_any_dtype(dtype):\n",
        "            inferred = \"datetime\"\n",
        "        elif pd.api.types.is_object_dtype(dtype):\n",
        "            if n_unique / total < 0.3 and n_unique < 100:\n",
        "                inferred = \"categorical\"\n",
        "            else:\n",
        "                inferred = \"text\"\n",
        "        else:\n",
        "            inferred = \"other\"\n",
        "\n",
        "        type_map[col] = inferred\n",
        "        stats[col] = {\n",
        "            \"missing_rate\": round(n_missing / total, 4),\n",
        "            \"n_unique\": int(n_unique),\n",
        "            \"example\": example,\n",
        "        }\n",
        "\n",
        "    return {\"columns\": list(df.columns), \"types\": type_map, \"stats\": stats}"
      ]
    },
    {
      "cell_type": "code",
      "execution_count": 6,
      "metadata": {},
      "outputs": [
        {
          "name": "stdout",
          "output_type": "stream",
          "text": [
            "\n",
            "Dataset profile summary:\n",
            "\n",
            "  {\n",
            "    \"columns\": [\n",
            "      \"Quarter\",\n",
            "      \"number_Customers\",\n",
            "      \"Total_Transactions\",\n",
            "      \"Revenue\",\n",
            "      \"Profit\"\n",
            "    ],\n",
            "    \"types\": {\n",
            "      \"Quarter\": \"text\",\n",
            "      \"number_Customers\": \"text\",\n",
            "      \"Total_Transactions\": \"text\",\n",
            "      \"Revenue\": \"text\",\n",
            "      \"Profit\": \"text\"\n",
            "    },\n",
            "    \"stats\": {\n",
            "      \"Quarter\": {\n",
            "        \"missing_rate\": 0.0,\n",
            "        \"n_unique\": 16,\n",
            "        \"example\": \"2016Q1\"\n",
            "      },\n",
            "      \"number_Customers\": {\n",
            "        \"missing_rate\": 0.0,\n",
            "        \"n_unique\": 16,\n",
            "        \"example\": \"2,943\"\n",
            "      },\n",
            "      \"Total_Transactions\": {\n",
            "        \"missing_rate\": 0.0,\n",
            "        \"n_unique\": 16,\n",
            "        \"example\": \"3,683\"\n",
            "      },\n",
            "      \"Revenue\": {\n",
            "        \"missing_rate\": 0.0,\n",
            "        \"n_unique\": 16,\n",
            "        \"example\": \"396,436\"\n",
            "      },\n",
            "      \"Profit\": {\n",
            "        \"missing_rate\": 0.0,\n",
            "        \"n_unique\": 16,\n",
            "        \"example\": \"189,057\"\n",
            "      }\n",
            "    }\n",
            "  }\n"
          ]
        }
      ],
      "source": [
        "# ---------- Quick demo -----------------------------------------------------\n",
        "\n",
        "if __name__ == \"__main__\":\n",
        "    # Google‑Drive file ID for the dataset the user provided\n",
        "    # https://drive.google.com/file/d/1iggV9et6qdhJyxTcEg32mVBeJf3D52LZ/view?usp=sharing\n",
        "    \n",
        "    gdrive_file_id = \"https://drive.google.com/uc?export=download&id=1iggV9et6qdhJyxTcEg32mVBeJf3D52LZ\"\n",
        "\n",
        "    # 1️⃣  Load the CSV directly from Drive\n",
        "    df = pd.read_csv(gdrive_file_id)\n",
        "\n",
        "    # 2️⃣  Profile the dataset\n",
        "    profile = profile_dataset(df)\n",
        "\n",
        "    # 3️⃣  Pretty‑print a compact summary\n",
        "    import json, textwrap\n",
        "\n",
        "    print(\"\\nDataset profile summary:\\n\")\n",
        "    print(textwrap.indent(json.dumps(profile, indent=2, default=str), \"  \"))"
      ]
    },
    {
      "cell_type": "code",
      "execution_count": null,
      "metadata": {},
      "outputs": [],
      "source": []
    }
  ],
  "metadata": {
    "colab": {
      "provenance": []
    },
    "kernelspec": {
      "display_name": "Python 3",
      "name": "python3"
    },
    "language_info": {
      "codemirror_mode": {
        "name": "ipython",
        "version": 3
      },
      "file_extension": ".py",
      "mimetype": "text/x-python",
      "name": "python",
      "nbconvert_exporter": "python",
      "pygments_lexer": "ipython3",
      "version": "3.9.6"
    }
  },
  "nbformat": 4,
  "nbformat_minor": 0
}
