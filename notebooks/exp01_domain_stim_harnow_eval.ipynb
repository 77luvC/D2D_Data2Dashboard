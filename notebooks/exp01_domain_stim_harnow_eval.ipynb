{
  "cells": [
    {
      "cell_type": "code",
      "execution_count": 1,
      "metadata": {
        "id": "CnIeB334pfpJ"
      },
      "outputs": [
        {
          "ename": "ModuleNotFoundError",
          "evalue": "No module named 'insightbench'",
          "output_type": "error",
          "traceback": [
            "\u001b[0;31m---------------------------------------------------------------------------\u001b[0m",
            "\u001b[0;31mModuleNotFoundError\u001b[0m                       Traceback (most recent call last)",
            "Cell \u001b[0;32mIn[1], line 2\u001b[0m\n\u001b[1;32m      1\u001b[0m \u001b[38;5;28;01mimport\u001b[39;00m \u001b[38;5;21;01mjson\u001b[39;00m\n\u001b[0;32m----> 2\u001b[0m \u001b[38;5;28;01mfrom\u001b[39;00m \u001b[38;5;21;01minsightbench\u001b[39;00m \u001b[38;5;28;01mimport\u001b[39;00m benchmarks, metrics\n\u001b[1;32m      4\u001b[0m \u001b[38;5;66;03m# Load your analysis result\u001b[39;00m\n\u001b[1;32m      5\u001b[0m your_analysis \u001b[38;5;241m=\u001b[39m {\n\u001b[1;32m      6\u001b[0m     \u001b[38;5;124m\"\u001b[39m\u001b[38;5;124mdescriptive\u001b[39m\u001b[38;5;124m\"\u001b[39m: \u001b[38;5;124m\"\u001b[39m\u001b[38;5;124mThe dataset provides a comprehensive view of customer interactions...\u001b[39m\u001b[38;5;124m\"\u001b[39m,\n\u001b[1;32m      7\u001b[0m     \u001b[38;5;124m\"\u001b[39m\u001b[38;5;124mpredictive\u001b[39m\u001b[38;5;124m\"\u001b[39m: \u001b[38;5;124m\"\u001b[39m\u001b[38;5;124mPredictive analysis could focus on identifying factors...\u001b[39m\u001b[38;5;124m\"\u001b[39m,\n\u001b[1;32m      8\u001b[0m     \u001b[38;5;124m\"\u001b[39m\u001b[38;5;124mdomain_related\u001b[39m\u001b[38;5;124m\"\u001b[39m: \u001b[38;5;124m\"\u001b[39m\u001b[38;5;124mIn the CRM domain, understanding customer segmentation...\u001b[39m\u001b[38;5;124m\"\u001b[39m\n\u001b[1;32m      9\u001b[0m }\n",
            "\u001b[0;31mModuleNotFoundError\u001b[0m: No module named 'insightbench'"
          ]
        }
      ],
      "source": [
        "# Load your analysis result\n",
        "your_analysis = {\n",
        "    \"descriptive\": \"The dataset provides a comprehensive view of customer interactions...\",\n",
        "    \"predictive\": \"Predictive analysis could focus on identifying factors...\",\n",
        "    \"domain_related\": \"In the CRM domain, understanding customer segmentation...\"\n",
        "}\n",
        "\n",
        "# Convert your analysis to the format expected by InsightBench\n",
        "# InsightBench expects a list of insights\n",
        "pred_insights = [\n",
        "    your_analysis[\"descriptive\"],\n",
        "    your_analysis[\"predictive\"],\n",
        "    your_analysis[\"domain_related\"]a\n",
        "]\n",
        "\n",
        "# Load the benchmark for comparison\n",
        "# You need to identify which benchmark dataset you're using\n",
        "dataset_id = 1  # Change this to match your dataset\n",
        "benchmark_path = f\"data/notebooks/flag-{dataset_id}.json\"\n",
        "benchmark_data = benchmarks.load_dataset_dict(benchmark_path)\n",
        "gt_insights = benchmark_data[\"insights\"]\n",
        "\n",
        "# Evaluate using different metrics\n",
        "rouge_score, rouge_details = metrics.compute_rouge(pred_insights, gt_insights)\n",
        "geval_score, geval_details = metrics.compute_g_eval_o2m(pred_insights, gt_insights)\n",
        "\n",
        "print(f\"ROUGE-1 Score: {rouge_score}\")\n",
        "print(f\"G-Eval Score: {geval_score}\")"
      ]
    },
    {
      "cell_type": "code",
      "execution_count": null,
      "metadata": {},
      "outputs": [],
      "source": []
    }
  ],
  "metadata": {
    "colab": {
      "provenance": []
    },
    "kernelspec": {
      "display_name": "Python 3",
      "name": "python3"
    },
    "language_info": {
      "codemirror_mode": {
        "name": "ipython",
        "version": 3
      },
      "file_extension": ".py",
      "mimetype": "text/x-python",
      "name": "python",
      "nbconvert_exporter": "python",
      "pygments_lexer": "ipython3",
      "version": "3.9.6"
    }
  },
  "nbformat": 4,
  "nbformat_minor": 0
}
